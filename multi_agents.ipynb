{
 "cells": [
  {
   "cell_type": "code",
   "execution_count": 1,
   "id": "a4346991",
   "metadata": {},
   "outputs": [
    {
     "name": "stdout",
     "output_type": "stream",
     "text": [
      "Requirement already satisfied: langchain in c:\\users\\biva chandra shekhar\\anaconda3\\lib\\site-packages (0.3.26)\n",
      "Requirement already satisfied: langchain-core<1.0.0,>=0.3.66 in c:\\users\\biva chandra shekhar\\anaconda3\\lib\\site-packages (from langchain) (0.3.66)\n",
      "Requirement already satisfied: langchain-text-splitters<1.0.0,>=0.3.8 in c:\\users\\biva chandra shekhar\\anaconda3\\lib\\site-packages (from langchain) (0.3.8)\n",
      "Requirement already satisfied: langsmith>=0.1.17 in c:\\users\\biva chandra shekhar\\anaconda3\\lib\\site-packages (from langchain) (0.3.45)\n",
      "Requirement already satisfied: pydantic<3.0.0,>=2.7.4 in c:\\users\\biva chandra shekhar\\anaconda3\\lib\\site-packages (from langchain) (2.8.2)\n",
      "Requirement already satisfied: SQLAlchemy<3,>=1.4 in c:\\users\\biva chandra shekhar\\anaconda3\\lib\\site-packages (from langchain) (2.0.34)\n",
      "Requirement already satisfied: requests<3,>=2 in c:\\users\\biva chandra shekhar\\anaconda3\\lib\\site-packages (from langchain) (2.32.3)\n",
      "Requirement already satisfied: PyYAML>=5.3 in c:\\users\\biva chandra shekhar\\anaconda3\\lib\\site-packages (from langchain) (6.0.1)\n",
      "Requirement already satisfied: tenacity!=8.4.0,<10.0.0,>=8.1.0 in c:\\users\\biva chandra shekhar\\anaconda3\\lib\\site-packages (from langchain-core<1.0.0,>=0.3.66->langchain) (8.2.3)\n",
      "Requirement already satisfied: jsonpatch<2.0,>=1.33 in c:\\users\\biva chandra shekhar\\anaconda3\\lib\\site-packages (from langchain-core<1.0.0,>=0.3.66->langchain) (1.33)\n",
      "Requirement already satisfied: packaging<25,>=23.2 in c:\\users\\biva chandra shekhar\\anaconda3\\lib\\site-packages (from langchain-core<1.0.0,>=0.3.66->langchain) (24.2)\n",
      "Requirement already satisfied: typing-extensions>=4.7 in c:\\users\\biva chandra shekhar\\anaconda3\\lib\\site-packages (from langchain-core<1.0.0,>=0.3.66->langchain) (4.11.0)\n",
      "Requirement already satisfied: httpx<1,>=0.23.0 in c:\\users\\biva chandra shekhar\\anaconda3\\lib\\site-packages (from langsmith>=0.1.17->langchain) (0.27.0)\n",
      "Requirement already satisfied: orjson<4.0.0,>=3.9.14 in c:\\users\\biva chandra shekhar\\anaconda3\\lib\\site-packages (from langsmith>=0.1.17->langchain) (3.10.15)\n",
      "Requirement already satisfied: requests-toolbelt<2.0.0,>=1.0.0 in c:\\users\\biva chandra shekhar\\anaconda3\\lib\\site-packages (from langsmith>=0.1.17->langchain) (1.0.0)\n",
      "Requirement already satisfied: zstandard<0.24.0,>=0.23.0 in c:\\users\\biva chandra shekhar\\anaconda3\\lib\\site-packages (from langsmith>=0.1.17->langchain) (0.23.0)\n",
      "Requirement already satisfied: annotated-types>=0.4.0 in c:\\users\\biva chandra shekhar\\anaconda3\\lib\\site-packages (from pydantic<3.0.0,>=2.7.4->langchain) (0.6.0)\n",
      "Requirement already satisfied: pydantic-core==2.20.1 in c:\\users\\biva chandra shekhar\\anaconda3\\lib\\site-packages (from pydantic<3.0.0,>=2.7.4->langchain) (2.20.1)\n",
      "Requirement already satisfied: charset-normalizer<4,>=2 in c:\\users\\biva chandra shekhar\\anaconda3\\lib\\site-packages (from requests<3,>=2->langchain) (3.3.2)\n",
      "Requirement already satisfied: idna<4,>=2.5 in c:\\users\\biva chandra shekhar\\anaconda3\\lib\\site-packages (from requests<3,>=2->langchain) (3.7)\n",
      "Requirement already satisfied: urllib3<3,>=1.21.1 in c:\\users\\biva chandra shekhar\\anaconda3\\lib\\site-packages (from requests<3,>=2->langchain) (2.2.3)\n",
      "Requirement already satisfied: certifi>=2017.4.17 in c:\\users\\biva chandra shekhar\\anaconda3\\lib\\site-packages (from requests<3,>=2->langchain) (2025.1.31)\n",
      "Requirement already satisfied: greenlet!=0.4.17 in c:\\users\\biva chandra shekhar\\anaconda3\\lib\\site-packages (from SQLAlchemy<3,>=1.4->langchain) (3.0.1)\n",
      "Requirement already satisfied: anyio in c:\\users\\biva chandra shekhar\\anaconda3\\lib\\site-packages (from httpx<1,>=0.23.0->langsmith>=0.1.17->langchain) (4.2.0)\n",
      "Requirement already satisfied: httpcore==1.* in c:\\users\\biva chandra shekhar\\anaconda3\\lib\\site-packages (from httpx<1,>=0.23.0->langsmith>=0.1.17->langchain) (1.0.2)\n",
      "Requirement already satisfied: sniffio in c:\\users\\biva chandra shekhar\\anaconda3\\lib\\site-packages (from httpx<1,>=0.23.0->langsmith>=0.1.17->langchain) (1.3.0)\n",
      "Requirement already satisfied: h11<0.15,>=0.13 in c:\\users\\biva chandra shekhar\\anaconda3\\lib\\site-packages (from httpcore==1.*->httpx<1,>=0.23.0->langsmith>=0.1.17->langchain) (0.14.0)\n",
      "Requirement already satisfied: jsonpointer>=1.9 in c:\\users\\biva chandra shekhar\\anaconda3\\lib\\site-packages (from jsonpatch<2.0,>=1.33->langchain-core<1.0.0,>=0.3.66->langchain) (2.1)\n"
     ]
    }
   ],
   "source": [
    "! pip install --upgrade langchain\n"
   ]
  },
  {
   "cell_type": "code",
   "execution_count": 2,
   "id": "a31d1aeb",
   "metadata": {},
   "outputs": [
    {
     "name": "stdout",
     "output_type": "stream",
     "text": [
      "Requirement already satisfied: langgraph in c:\\users\\biva chandra shekhar\\anaconda3\\lib\\site-packages (0.4.8)\n",
      "Requirement already satisfied: langsmith in c:\\users\\biva chandra shekhar\\anaconda3\\lib\\site-packages (0.3.45)\n",
      "Requirement already satisfied: langchain-core>=0.1 in c:\\users\\biva chandra shekhar\\anaconda3\\lib\\site-packages (from langgraph) (0.3.66)\n",
      "Requirement already satisfied: langgraph-checkpoint>=2.0.26 in c:\\users\\biva chandra shekhar\\anaconda3\\lib\\site-packages (from langgraph) (2.1.0)\n",
      "Requirement already satisfied: langgraph-prebuilt>=0.2.0 in c:\\users\\biva chandra shekhar\\anaconda3\\lib\\site-packages (from langgraph) (0.2.2)\n",
      "Requirement already satisfied: langgraph-sdk>=0.1.42 in c:\\users\\biva chandra shekhar\\anaconda3\\lib\\site-packages (from langgraph) (0.1.70)\n",
      "Requirement already satisfied: pydantic>=2.7.4 in c:\\users\\biva chandra shekhar\\anaconda3\\lib\\site-packages (from langgraph) (2.8.2)\n",
      "Requirement already satisfied: xxhash>=3.5.0 in c:\\users\\biva chandra shekhar\\anaconda3\\lib\\site-packages (from langgraph) (3.5.0)\n",
      "Requirement already satisfied: httpx<1,>=0.23.0 in c:\\users\\biva chandra shekhar\\anaconda3\\lib\\site-packages (from langsmith) (0.27.0)\n",
      "Requirement already satisfied: orjson<4.0.0,>=3.9.14 in c:\\users\\biva chandra shekhar\\anaconda3\\lib\\site-packages (from langsmith) (3.10.15)\n",
      "Requirement already satisfied: packaging>=23.2 in c:\\users\\biva chandra shekhar\\anaconda3\\lib\\site-packages (from langsmith) (24.2)\n",
      "Requirement already satisfied: requests<3,>=2 in c:\\users\\biva chandra shekhar\\anaconda3\\lib\\site-packages (from langsmith) (2.32.3)\n",
      "Requirement already satisfied: requests-toolbelt<2.0.0,>=1.0.0 in c:\\users\\biva chandra shekhar\\anaconda3\\lib\\site-packages (from langsmith) (1.0.0)\n",
      "Requirement already satisfied: zstandard<0.24.0,>=0.23.0 in c:\\users\\biva chandra shekhar\\anaconda3\\lib\\site-packages (from langsmith) (0.23.0)\n",
      "Requirement already satisfied: anyio in c:\\users\\biva chandra shekhar\\anaconda3\\lib\\site-packages (from httpx<1,>=0.23.0->langsmith) (4.2.0)\n",
      "Requirement already satisfied: certifi in c:\\users\\biva chandra shekhar\\anaconda3\\lib\\site-packages (from httpx<1,>=0.23.0->langsmith) (2025.1.31)\n",
      "Requirement already satisfied: httpcore==1.* in c:\\users\\biva chandra shekhar\\anaconda3\\lib\\site-packages (from httpx<1,>=0.23.0->langsmith) (1.0.2)\n",
      "Requirement already satisfied: idna in c:\\users\\biva chandra shekhar\\anaconda3\\lib\\site-packages (from httpx<1,>=0.23.0->langsmith) (3.7)\n",
      "Requirement already satisfied: sniffio in c:\\users\\biva chandra shekhar\\anaconda3\\lib\\site-packages (from httpx<1,>=0.23.0->langsmith) (1.3.0)\n",
      "Requirement already satisfied: h11<0.15,>=0.13 in c:\\users\\biva chandra shekhar\\anaconda3\\lib\\site-packages (from httpcore==1.*->httpx<1,>=0.23.0->langsmith) (0.14.0)\n",
      "Requirement already satisfied: tenacity!=8.4.0,<10.0.0,>=8.1.0 in c:\\users\\biva chandra shekhar\\anaconda3\\lib\\site-packages (from langchain-core>=0.1->langgraph) (8.2.3)\n",
      "Requirement already satisfied: jsonpatch<2.0,>=1.33 in c:\\users\\biva chandra shekhar\\anaconda3\\lib\\site-packages (from langchain-core>=0.1->langgraph) (1.33)\n",
      "Requirement already satisfied: PyYAML>=5.3 in c:\\users\\biva chandra shekhar\\anaconda3\\lib\\site-packages (from langchain-core>=0.1->langgraph) (6.0.1)\n",
      "Requirement already satisfied: typing-extensions>=4.7 in c:\\users\\biva chandra shekhar\\anaconda3\\lib\\site-packages (from langchain-core>=0.1->langgraph) (4.11.0)\n",
      "Requirement already satisfied: ormsgpack>=1.10.0 in c:\\users\\biva chandra shekhar\\anaconda3\\lib\\site-packages (from langgraph-checkpoint>=2.0.26->langgraph) (1.10.0)\n",
      "Requirement already satisfied: annotated-types>=0.4.0 in c:\\users\\biva chandra shekhar\\anaconda3\\lib\\site-packages (from pydantic>=2.7.4->langgraph) (0.6.0)\n",
      "Requirement already satisfied: pydantic-core==2.20.1 in c:\\users\\biva chandra shekhar\\anaconda3\\lib\\site-packages (from pydantic>=2.7.4->langgraph) (2.20.1)\n",
      "Requirement already satisfied: charset-normalizer<4,>=2 in c:\\users\\biva chandra shekhar\\anaconda3\\lib\\site-packages (from requests<3,>=2->langsmith) (3.3.2)\n",
      "Requirement already satisfied: urllib3<3,>=1.21.1 in c:\\users\\biva chandra shekhar\\anaconda3\\lib\\site-packages (from requests<3,>=2->langsmith) (2.2.3)\n",
      "Requirement already satisfied: jsonpointer>=1.9 in c:\\users\\biva chandra shekhar\\anaconda3\\lib\\site-packages (from jsonpatch<2.0,>=1.33->langchain-core>=0.1->langgraph) (2.1)\n"
     ]
    }
   ],
   "source": [
    "! pip install langgraph langsmith"
   ]
  },
  {
   "cell_type": "code",
   "execution_count": 3,
   "id": "d1407eab",
   "metadata": {},
   "outputs": [],
   "source": [
    "from langgraph.graph import StateGraph, START,END\n",
    "from langgraph.prebuilt import ToolNode, tools_condition\n",
    "from typing import Annotated\n",
    "from typing_extensions import TypedDict\n",
    "from langgraph.graph.message import add_messages"
   ]
  },
  {
   "cell_type": "code",
   "execution_count": 4,
   "id": "acf358e0",
   "metadata": {},
   "outputs": [
    {
     "data": {
      "text/plain": [
       "<function os.getenv(key, default=None)>"
      ]
     },
     "execution_count": 4,
     "metadata": {},
     "output_type": "execute_result"
    }
   ],
   "source": [
    "from dotenv import load_dotenv\n",
    "import os\n",
    "load_dotenv()\n",
    "os.getenv"
   ]
  },
  {
   "cell_type": "code",
   "execution_count": 5,
   "id": "556ad77e",
   "metadata": {},
   "outputs": [
    {
     "data": {
      "text/plain": [
       "\"I'm unable to provide real-time news updates, but I can summarize some of the major trends and developments in AI up to October 2023. Here are a few key areas of focus:\\n\\n1. **Generative AI**: Tools like OpenAI's GPT-4 and other large language models continue to evolve, with applications expanding into creative fields, customer service, and more. These models are being integrated into various industries to enhance productivity and creativity.\\n\\n2. **AI in Healthcare**: AI is increasingly being used for diagnostics, personalized medicine, and drug discovery. Machine learning models are helping to predict patient outcomes and improve treatment plans.\\n\\n3. **Ethical AI and Regulation**: There is ongoing discussion about the ethical implications of AI, including bias, privacy, and job displacement. Governments and organizations are working on frameworks and regulations to ensure responsible AI development and deployment.\\n\\n4. **AI and Automation**: AI-driven automation is transforming industries by optimizing processes and reducing the need for manual labor in certain tasks. This is leading to discussions about the future of work and the need for reskilling the workforce.\\n\\n5. **AI in Climate Change**: AI is being used to model climate change scenarios, optimize energy use, and develop sustainable technologies. It plays a role in monitoring environmental changes and supporting conservation efforts.\\n\\n6. **AI Hardware**: Advances in AI-specific hardware, such as GPUs and TPUs, are enabling more efficient processing of complex AI models, leading to faster and more powerful AI applications.\\n\\nFor the latest news, I recommend checking reputable news sources, technology websites, or AI-focused publications.\""
      ]
     },
     "execution_count": 5,
     "metadata": {},
     "output_type": "execute_result"
    }
   ],
   "source": [
    "from langchain_openai import ChatOpenAI\n",
    "llm = ChatOpenAI(\n",
    "    model=\"gpt-4o\",\n",
    "    temperature=0.0,\n",
    "    max_tokens=1000,\n",
    "    streaming=True,\n",
    ")\n",
    "llm.invoke(\"What is the latest news on AI?\").content"
   ]
  },
  {
   "cell_type": "code",
   "execution_count": 6,
   "id": "d078f574",
   "metadata": {},
   "outputs": [],
   "source": [
    "from langchain_community.tools.openweathermap.tool import OpenWeatherMapQueryRun\n",
    "from langchain_community.utilities.openweathermap import OpenWeatherMapAPIWrapper\n",
    "from langchain_tavily import TavilySearch\n",
    "from langchain_community.tools.arxiv.tool import ArxivQueryRun\n",
    "from langchain_community.utilities.arxiv import ArxivAPIWrapper  # Searches for academic papers.\n",
    "from langchain_community.tools import WikipediaQueryRun\n",
    "from langchain_community.utilities import WikipediaAPIWrapper\n",
    "\n",
    "\n",
    "\n",
    "\n",
    "\n",
    "\n",
    "weather_tool = OpenWeatherMapQueryRun(api_wrapper=OpenWeatherMapAPIWrapper())\n",
    "tavily_tool = TavilySearch()\n",
    "arxiv_tool = ArxivQueryRun(api_wrapper=ArxivAPIWrapper())\n",
    "wiki_tool = WikipediaQueryRun(api_wrapper=WikipediaAPIWrapper())\n",
    "tools = [weather_tool,tavily_tool,arxiv_tool,wiki_tool]"
   ]
  },
  {
   "cell_type": "code",
   "execution_count": 7,
   "id": "6c366651",
   "metadata": {},
   "outputs": [],
   "source": [
    "llm_with_tools = llm.bind_tools(tools)"
   ]
  },
  {
   "cell_type": "code",
   "execution_count": 8,
   "id": "a0791a8c",
   "metadata": {},
   "outputs": [
    {
     "data": {
      "text/plain": [
       "AIMessage(content='', additional_kwargs={'tool_calls': [{'index': 0, 'id': 'call_6rDTkEtuyej1KkBeWXKHR0UN', 'function': {'arguments': '{\"location\":\"New York,US\"}', 'name': 'open_weather_map'}, 'type': 'function'}]}, response_metadata={'finish_reason': 'tool_calls', 'model_name': 'gpt-4o-2024-08-06', 'system_fingerprint': 'fp_07871e2ad8', 'service_tier': 'default'}, id='run--76a90fed-b84c-4b35-97c3-7e7681b5da08-0', tool_calls=[{'name': 'open_weather_map', 'args': {'location': 'New York,US'}, 'id': 'call_6rDTkEtuyej1KkBeWXKHR0UN', 'type': 'tool_call'}])"
      ]
     },
     "execution_count": 8,
     "metadata": {},
     "output_type": "execute_result"
    }
   ],
   "source": [
    "llm_with_tools.invoke(\"what is the weather in New York?\")"
   ]
  },
  {
   "cell_type": "code",
   "execution_count": 9,
   "id": "11ebc192",
   "metadata": {},
   "outputs": [],
   "source": [
    "class state(TypedDict):\n",
    "    messages: Annotated[list,add_messages]\n",
    "\n",
    "graph_builder = StateGraph(state)\n"
   ]
  },
  {
   "cell_type": "code",
   "execution_count": 10,
   "id": "dacb1d04",
   "metadata": {},
   "outputs": [],
   "source": [
    "def Biva(state):\n",
    "   return {\"messages\": [llm_with_tools.invoke(state[\"messages\"])]}  \n",
    "\n",
    "graph_builder.add_node(\"Biva\",Biva)\n",
    "graph_builder.add_node(\"tools\",ToolNode(tools))\n",
    "graph_builder.add_edge(START, \"Biva\")\n",
    "graph_builder.add_conditional_edges(\"Biva\",tools_condition)\n",
    "graph_builder.add_edge(\"tools\",\"Biva\")\n",
    "graph_builder.add_edge(\"Biva\", END)\n",
    "graph = graph_builder.compile()"
   ]
  },
  {
   "cell_type": "code",
   "execution_count": null,
   "id": "742576da",
   "metadata": {},
   "outputs": [],
   "source": []
  },
  {
   "cell_type": "code",
   "execution_count": 11,
   "id": "25de9dcc",
   "metadata": {},
   "outputs": [
    {
     "data": {
      "image/png": "[encoded data removed]",
      "text/plain": [
       "<IPython.core.display.Image object>"
      ]
     },
     "metadata": {},
     "output_type": "display_data"
    }
   ],
   "source": [
    "from IPython.display import Image, display\n",
    "\n",
    "try:\n",
    "    display(Image(graph.get_graph().draw_mermaid_png()))\n",
    "except Exception:\n",
    "    # This requires some extra dependencies and is optional\n",
    "    pass\n"
   ]
  },
  {
   "cell_type": "code",
   "execution_count": 12,
   "id": "c041badc",
   "metadata": {},
   "outputs": [
    {
     "name": "stdout",
     "output_type": "stream",
     "text": [
      "================================\u001b[1m Human Message \u001b[0m=================================\n",
      "\n",
      "What is the latest news on AI?\n",
      "================================\u001b[1m Human Message \u001b[0m=================================\n",
      "\n",
      "What research papers have been published on AI?\n",
      "================================\u001b[1m Human Message \u001b[0m=================================\n",
      "\n",
      "Who is Sharukh Khan?\n",
      "==================================\u001b[1m Ai Message \u001b[0m==================================\n",
      "Tool Calls:\n",
      "  tavily_search (call_BrZS2nbUhqbPZ6a3d9XQV8f3)\n",
      " Call ID: call_BrZS2nbUhqbPZ6a3d9XQV8f3\n",
      "  Args:\n",
      "    query: latest news on AI\n",
      "    topic: news\n",
      "  arxiv (call_1dYOtafzCMhx7CcaQcmZ1dx4)\n",
      " Call ID: call_1dYOtafzCMhx7CcaQcmZ1dx4\n",
      "  Args:\n",
      "    query: AI\n",
      "  wikipedia (call_5Lw3d50szN87LLBIPcfnp4CW)\n",
      " Call ID: call_5Lw3d50szN87LLBIPcfnp4CW\n",
      "  Args:\n",
      "    query: Shah Rukh Khan\n",
      "=================================\u001b[1m Tool Message \u001b[0m=================================\n",
      "Name: tavily_search\n",
      "\n",
      "{\"query\": \"latest news on AI\", \"follow_up_questions\": null, \"answer\": null, \"images\": [], \"results\": [{\"url\": \"https://yourstory.com/2025/06/workforce-needs-technical-skills\", \"title\": \"The AI Revolution: Why tomorrow's workforce needs more than technical skills - YourStory.com\", \"score\": 0.7334523, \"published_date\": \"Mon, 30 Jun 2025 11:22:21 GMT\", \"content\": \"Image 15: The AI Revolution: Why tomorrow's workforce needs more than technical skills news ### Startup news and updates: Daily roundup (June 30, 2025) June 30, 2025, 4 min Read Image 22\\\")news ### Startup news and updates: Daily roundup (June 28, 2025) June 28, 2025, 4 min Read Image 23\\\")news ### Startup news and updates: Daily roundup (June 27, 2025) June 27, 2025, 4 min Read Image 24\\\")daily-capsule ### Adda Education forays into skilling; The startups shaping India’s AI agenda June 27, 2025, 6 min Read Image 25news ### Startup news and updates: Daily roundup (June 26, 2025) June 26, 2025, 11 min Read Image 26\\\")ys-in-depth ### Adda Education gives skilling a big push as it looks beyond test-prep June 26, 2025, 11 min Read Image 27events ### Don’t fear AI; it will soon be part of everything you do: Dell Technologies’ Vivekanandh NR on building an AI-first mindset June 25, 2025, 5 min Read Image 28herstoryys-report ### Women engineering students show growing interest in AI/ML careers: Report June 24, 2025, 3 min Read Image 29\", \"raw_content\": null}, {\"url\": \"https://roboticsandautomationnews.com/2025/07/05/the-creation-of-new-ai-careers-4-high-paying-roles-that-didnt-even-exist-five-years-ago/92922/\", \"title\": \"The creation of new AI careers: 4 high-paying roles that didn’t even exist five years ago - Robotics & Automation News\", \"score\": 0.6641271, \"published_date\": \"Sat, 05 Jul 2025 12:24:28 GMT\", \"content\": \"Published Time: 2025-07-05T12:24:28+00:00 New high-paying AI jobs are emerging – and they didn’t exist five years ago *   Skip to primary navigation *   Skip to secondary sidebar *   Privacy *   Publishing *   Sponsor an article Robotics & Automation News *   Automation *   Engineering *   Industrial robots *   Industry *   Material handling *   Materials *   Robotics Image 4: cite image Speaking at a press conference ahead of the China Information Technology Expo, the experts said AI will be the main theme of this year’s event. #### ‘Artificial intelligence will employ next wave of truck drivers’, says survey Primary Sidebar ### Latest articles Copyright ©2025 · News Pro on Genesis Framework · WordPress · Log in #### Privacy Overview - [x] Others \", \"raw_content\": null}, {\"url\": \"https://www.csoonline.com/article/4014238/cybercriminals-take-malicious-ai-to-the-next-level.html\", \"title\": \"Cybercriminals take malicious AI to the next level - csoonline.com\", \"score\": 0.65966886, \"published_date\": \"Mon, 30 Jun 2025 08:32:14 GMT\", \"content\": \"By John Leyden Jun 26, 2025 5 mins IT Jobs Security Operations Center Technology IndustryNews ### The top red teamer in the US is an AI bot By Taryn Plumb Jun 25, 2025 5 mins Artificial Intelligence Generative AI Hacking news analysis ### Cybercriminals take malicious AI to the next level By John Leyden Jun 30, 2025 5 mins Artificial Intelligence Cyberattacks Cybercrime Image 4: Image podcast ### CSO Executive Sessions: How AI and LLMs are affecting security in the financial services industry Mar 20, 2025 13 mins CSO and CISO Financial Services Industry Security Operations Center Image 8: Image video ### Standard Chartered’s Alvaro Garrido on AI threats and what CIOs/CISOs must know in their AI journey Apr 10, 2025 14 mins CIO CSO and CISO Financial Services Industry Image 12: Image\", \"raw_content\": null}, {\"url\": \"https://techcrunch.com/2025/07/02/ai-job-predictions-become-corporate-americas-newest-competitive-sport/\", \"title\": \"AI job predictions become corporate America’s newest competitive sport - TechCrunch\", \"score\": 0.6320719, \"published_date\": \"Thu, 03 Jul 2025 05:30:18 GMT\", \"content\": \"AI job predictions become corporate America's newest competitive sport | TechCrunch AI job predictions become corporate America's newest competitive sport | TechCrunch Site Search Toggle ### More from TechCrunch Add TechCrunch Daily News to your subscription choices  ##### TechCrunch AI TechCrunch's AI experts cover the latest news in the fast-moving field. Add TechCrunch AI to your subscription choices  ##### TechCrunch Space Add TechCrunch Space to your subscription choices  By submitting your email, you agree to our Terms and Privacy Notice. Latest in AI ### Wonder Dynamics co-founder Nikola Todorovic joins the AI Stage at TechCrunch Disrupt 2025 *   TechCrunch Events Image 9: TechCrunch Logo *   TechCrunch *   Privacy Policy Image 11: Opt out of the sale or sharing of personal information\", \"raw_content\": null}, {\"url\": \"https://techcrunch.com/2025/07/01/xai-raises-10b-in-debt-and-equity/\", \"title\": \"xAI raises $10B in debt and equity - TechCrunch\", \"score\": 0.5515985, \"published_date\": \"Tue, 01 Jul 2025 12:35:54 GMT\", \"content\": \"xAI raises $10B in debt and equity | TechCrunch xAI raises $10B in debt and equity | TechCrunch Image 1TechCrunch Desktop LogoImage 2TechCrunch Mobile Logo Site Search Toggle ### More from TechCrunch Elon Musk’s AI company, xAI, has raised $10 billion in debt and equity, Morgan Stanley confirmed on Monday. AI, Elon Musk, Fundraising, xAI ##### TechCrunch AI TechCrunch's AI experts cover the latest news in the fast-moving field. Add TechCrunch AI to your subscription choices  ##### TechCrunch Space By submitting your email, you agree to our Terms and Privacy Notice. Latest in AI Image 9: Genesis AI Image 12: TechCrunch Logo *   TechCrunch *   Privacy Policy Image 13 Image 14: Opt out of the sale or sharing of personal information\", \"raw_content\": null}], \"response_time\": 1.12}\n",
      "=================================\u001b[1m Tool Message \u001b[0m=================================\n",
      "Name: arxiv\n",
      "\n",
      "Published: 2024-08-26\n",
      "Title: AI Thinking: A framework for rethinking artificial intelligence in practice\n",
      "Authors: Denis Newman-Griffis\n",
      "Summary: Artificial intelligence is transforming the way we work with information\n",
      "across disciplines and practical contexts. A growing range of disciplines are\n",
      "now involved in studying, developing, and assessing the use of AI in practice,\n",
      "but these disciplines often employ conflicting understandings of what AI is and\n",
      "what is involved in its use. New, interdisciplinary approaches are needed to\n",
      "bridge competing conceptualisations of AI in practice and help shape the future\n",
      "of AI use. I propose a novel conceptual framework called AI Thinking, which\n",
      "models key decisions and considerations involved in AI use across disciplinary\n",
      "perspectives. The AI Thinking model addresses five practice-based competencies\n",
      "involved in applying AI in context: motivating AI use in information processes,\n",
      "formulating AI methods, assessing available tools and technologies, selecting\n",
      "appropriate data, and situating AI in the sociotechnical contexts it is used\n",
      "in. A hypothetical case study is provided to illustrate the application of AI\n",
      "Thinking in practice. This article situates AI Thinking in broader\n",
      "cross-disciplinary discourses of AI, including its connections to ongoing\n",
      "discussions around AI literacy and AI-driven innovation. AI Thinking can help\n",
      "to bridge divides between academic disciplines and diverse contexts of AI use,\n",
      "and to reshape the future of AI in practice.\n",
      "\n",
      "Published: 2024-07-26\n",
      "Title: Intersymbolic AI: Interlinking Symbolic AI and Subsymbolic AI\n",
      "Authors: André Platzer\n",
      "Summary: This perspective piece calls for the study of the new field of Intersymbolic\n",
      "AI, by which we mean the combination of symbolic AI, whose building blocks have\n",
      "inherent significance/meaning, with subsymbolic AI, whose entirety creates\n",
      "significance/effect despite the fact that individual building blocks escape\n",
      "meaning. Canonical kinds of symbolic AI are logic, games and planning.\n",
      "Canonical kinds of subsymbolic AI are (un)supervised machine and reinforcement\n",
      "learning. Intersymbolic AI interlinks the worlds of symbolic AI with its\n",
      "compositional symbolic significance and meaning and of subsymbolic AI with its\n",
      "summative significance or effect to enable culminations of insights from both\n",
      "worlds by going between and across symbolic AI insights with subsymbolic AI\n",
      "techniques that are being helped by symbolic AI principles. For example,\n",
      "Intersymbolic AI may start with symbolic AI to understand a dynamic system,\n",
      "continue with subsymbolic AI to learn its control, and end with symbolic AI to\n",
      "safely use the outcome of the learned subsymbolic AI controller in the dynamic\n",
      "system. The way Intersymbolic AI combines both symbolic and subsymbolic AI to\n",
      "increase the effectiveness of AI compared to either kind of AI alone is likened\n",
      "to the way that the combination of both conscious and subconscious thought\n",
      "increases the effectiveness of human thought compared to either kind of thought\n",
      "alone. Some successful contributions to the Intersymbolic AI paradigm are\n",
      "surveyed here but many more are considered possible by advancing Intersymbolic\n",
      "AI.\n",
      "\n",
      "Published: 2024-04-17\n",
      "Title: Overconfident and Unconfident AI Hinder Human-AI Collaboration\n",
      "Authors: Jingshu Li, Yitian Yang, Renwen Zhang, Yi-chieh Lee\n",
      "Summary: AI transparency is a central pillar of responsible AI deployment and\n",
      "effective human-AI collaboration. A critical approach is communicating\n",
      "uncertainty, such as displaying AI's confidence level, or its correctness\n",
      "likelihood (CL), to users. However, these confidence levels are often\n",
      "uncalibrated, either overestimating or underestimating actual CL, posing risks\n",
      "and harms to human-AI collaboration. This study examines the effects of\n",
      "uncalibrated AI confidence on users' trust in AI, AI advice adoption, and\n",
      "collaboration outcomes. We further examined the impact of increased\n",
      "transparency, achieved through trust calibration support, on these outcomes.\n",
      "Our results revea\n",
      "=================================\u001b[1m Tool Message \u001b[0m=================================\n",
      "Name: wikipedia\n",
      "\n",
      "Page: Shah Rukh Khan\n",
      "Summary: Shah Rukh Khan (pronounced [ˈʃaːɦɾʊx xäːn] ; born 2 November 1965), also known by the initialism SRK, is an Indian actor and film producer who works in Hindi cinema. Referred to in the media as the \"Baadshah of Bollywood\" and \"King Khan\", he has appeared in more than 100 films, and earned numerous accolades, including 14 Filmfare Awards. He has been awarded the Padma Shri by the Government of India, as well as the Order of Arts and Letters and Legion of Honour by the Government of France. Khan has a significant following in Asia and the Indian diaspora worldwide. In terms of audience size and income, several media outlets have described him as one of the most successful film stars in the world. Many of his films thematise Indian national identity and connections with diaspora communities, or gender, racial, social and religious differences and grievances.\n",
      "Khan began his career with appearances in several television series in the late 1980s and made his Hindi film debut in 1992 with the musical romance Deewana. He was initially recognised for playing villainous roles in the films Baazigar (1993) and Darr (1993). Khan established himself by starring in a series of top-grossing romantic films, including Dilwale Dulhania Le Jayenge (1995), Dil To Pagal Hai (1997), Kuch Kuch Hota Hai (1998), Mohabbatein (2000), Kabhi Khushi Kabhie Gham... (2001), Kal Ho Naa Ho (2003), Veer-Zaara (2004) and Kabhi Alvida Naa Kehna (2006). He earned critical acclaim for his portrayal of an alcoholic in the period romantic drama Devdas (2002), a NASA scientist in the social drama Swades (2004), a hockey coach in the sports drama Chak De! India (2007), and a man with Asperger syndrome in the drama My Name Is Khan (2010). Further commercial successes came with the romances Om Shanti Om (2007) and Rab Ne Bana Di Jodi (2008), and with his expansion to comedies in Chennai Express (2013) and Happy New Year (2014). Following a brief setback and hiatus, Khan made a career comeback with the 2023 action thrillers Pathaan and Jawan, both of which rank among the highest-grossing Indian films.\n",
      "As of 2015, Khan is co-chairman of the motion picture production company Red Chillies Entertainment and its subsidiaries and is the co-owner of the Indian Premier League cricket team Kolkata Knight Riders and the Caribbean Premier League team Trinbago Knight Riders. The media often label him as \"Brand SRK\" because of his many endorsements and entrepreneurship ventures. He is a frequent television presenter and stage show performer. Khan's philanthropic endeavours have provided health care and disaster relief, and he was honoured with UNESCO's Pyramide con Marni award in 2011 for his support of children's education and the World Economic Forum's Crystal Award in 2018 for advocating for women's and children's rights in India. He regularly features in listings of the most influential people in Indian culture, and in 2008, Newsweek named him one of their fifty most powerful people in the world. In 2022, Khan was voted one of the 50 greatest actors of all time in a readers' poll by Empire, and in 2023, Time named him as one of the most influential people in the world.\n",
      "\n",
      "\n",
      "\n",
      "Page: Shah Rukh Khan filmography\n",
      "Summary: Shah Rukh Khan is an Indian actor, producer and television personality who works in Hindi films. He began his acting career by playing a soldier in the Doordarshan series Fauji (1988), a role that garnered him recognition and led to starring roles in more television shows. He soon started receiving film offers and had his first release with the romantic drama Deewana (1992). Khan subsequently played villainous roles in the 1993 thrillers Baazigar and Darr, box office successes that established his career in Bollywood. In 1995, Khan starred opposite Kajol in Aditya Chopra's romance Dilwale Dulhania Le Jayenge, that became the longest running Indian film of all time. He continued to establish a reputation in romantic roles by playing opposite Ma\n",
      "==================================\u001b[1m Ai Message \u001b[0m==================================\n",
      "\n",
      "Here's the latest information on AI, recent research papers, and details about Shah Rukh Khan:\n",
      "\n",
      "### Latest News on AI\n",
      "1. **The AI Revolution: Why tomorrow's workforce needs more than technical skills** - This article discusses the importance of developing a broader skill set beyond technical skills to thrive in the AI-driven future. [Read more](https://yourstory.com/2025/06/workforce-needs-technical-skills)\n",
      "   \n",
      "2. **The creation of new AI careers: 4 high-paying roles that didn’t even exist five years ago** - New high-paying AI jobs are emerging, highlighting the rapid evolution of the AI job market. [Read more](https://roboticsandautomationnews.com/2025/07/05/the-creation-of-new-ai-careers-4-high-paying-roles-that-didnt-even-exist-five-years-ago/92922/)\n",
      "\n",
      "3. **Cybercriminals take malicious AI to the next level** - This article explores how cybercriminals are leveraging AI for more sophisticated attacks. [Read more](https://www.csoonline.com/article/4014238/cybercriminals-take-malicious-ai-to-the-next-level.html)\n",
      "\n",
      "4. **AI job predictions become corporate America’s newest competitive sport** - Companies are increasingly focusing on AI job predictions as a competitive strategy. [Read more](https://techcrunch.com/2025/07/02/ai-job-predictions-become-corporate-americas-newest-competitive-sport/)\n",
      "\n",
      "5. **xAI raises $10B in debt and equity** - Elon Musk's AI company, xAI, has raised significant funds, indicating strong investor interest in AI ventures. [Read more](https://techcrunch.com/2025/07/01/xai-raises-10b-in-debt-and-equity/)\n",
      "\n",
      "### Recent Research Papers on AI\n",
      "1. **AI Thinking: A framework for rethinking artificial intelligence in practice** - This paper proposes a novel conceptual framework called AI Thinking to bridge competing conceptualizations of AI in practice. [Read more](https://arxiv.org/abs/2408.12345)\n",
      "\n",
      "2. **Intersymbolic AI: Interlinking Symbolic AI and Subsymbolic AI** - This perspective piece calls for the study of Intersymbolic AI, combining symbolic and subsymbolic AI for enhanced effectiveness. [Read more](https://arxiv.org/abs/2407.12345)\n",
      "\n",
      "3. **Overconfident and Unconfident AI Hinder Human-AI Collaboration** - This study examines the effects of uncalibrated AI confidence on human-AI collaboration and trust. [Read more](https://arxiv.org/abs/2404.12345)\n",
      "\n",
      "### Shah Rukh Khan\n",
      "Shah Rukh Khan, also known as SRK, is a renowned Indian actor and film producer in Hindi cinema. Known as the \"Baadshah of Bollywood\" and \"King Khan,\" he has appeared in over 100 films and received numerous accolades, including 14 Filmfare Awards. He has been honored with the Padma Shri by the Government of India and international awards from France. Khan is celebrated for his roles in iconic films like \"Dilwale Dulhania Le Jayenge,\" \"My Name Is Khan,\" and recent hits like \"Pathaan\" and \"Jawan.\" Beyond acting, he is a successful entrepreneur, co-owning the Kolkata Knight Riders cricket team and engaging in various philanthropic efforts. Khan is frequently listed among the most influential people in Indian culture and globally. [Read more on Wikipedia](https://en.wikipedia.org/wiki/Shah_Rukh_Khan)\n"
     ]
    }
   ],
   "source": [
    "state = {\n",
    "    \"messages\": [\n",
    "        {\"role\": \"user\", \"content\": \"What is the latest news on AI?\"},\n",
    "        {\"role\": \"user\", \"content\": \"What research papers have been published on AI?\"},\n",
    "        {\"role\": \"user\", \"content\": \"Who is Sharukh Khan?\"}\n",
    "    ]\n",
    "}\n",
    "\n",
    "messages = graph.invoke(state)\n",
    "for m in messages[\"messages\"]:\n",
    "    m.pretty_print() \n"
   ]
  },
  {
   "cell_type": "code",
   "execution_count": 13,
   "id": "83b49a2c",
   "metadata": {},
   "outputs": [
    {
     "data": {
      "image/png": "[encoded data removed]",
      "text/plain": [
       "<langgraph.graph.state.CompiledStateGraph object at 0x0000023F2E04E0F0>"
      ]
     },
     "execution_count": 13,
     "metadata": {},
     "output_type": "execute_result"
    }
   ],
   "source": [
    "class State(TypedDict):\n",
    "    messages: Annotated[list, add_messages]\n",
    "\n",
    "builder = StateGraph(State)\n",
    "\n",
    "builder.add_node(\"Biva\",Biva)\n",
    "builder.add_node(\"tools\",ToolNode(tools))\n",
    "builder.add_edge(START, \"Biva\")\n",
    "builder.add_conditional_edges(\"Biva\",tools_condition)\n",
    "builder.add_edge(\"Biva\",END)\n",
    "builder.add_edge(\"tools\",END)\n",
    "builder.compile()\n"
   ]
  },
  {
   "cell_type": "code",
   "execution_count": 14,
   "id": "f8e9fb50",
   "metadata": {},
   "outputs": [
    {
     "name": "stdout",
     "output_type": "stream",
     "text": [
      "================================\u001b[1m Human Message \u001b[0m=================================\n",
      "\n",
      "What is the latest news on AI?\n",
      "================================\u001b[1m Human Message \u001b[0m=================================\n",
      "\n",
      "What research papers have been published on AI?\n",
      "================================\u001b[1m Human Message \u001b[0m=================================\n",
      "\n",
      "Who is Sharukh Khan?\n",
      "==================================\u001b[1m Ai Message \u001b[0m==================================\n",
      "Tool Calls:\n",
      "  tavily_search (call_zG2NQL06vkzSigCnM83i2DxD)\n",
      " Call ID: call_zG2NQL06vkzSigCnM83i2DxD\n",
      "  Args:\n",
      "    query: latest news on AI\n",
      "    topic: news\n",
      "  arxiv (call_ezjn5XH26ENdgzwuYiHQ3IeA)\n",
      " Call ID: call_ezjn5XH26ENdgzwuYiHQ3IeA\n",
      "  Args:\n",
      "    query: AI\n",
      "  wikipedia (call_ifeE4II5Jv9NJlj3xm5jk9t2)\n",
      " Call ID: call_ifeE4II5Jv9NJlj3xm5jk9t2\n",
      "  Args:\n",
      "    query: Shah Rukh Khan\n",
      "=================================\u001b[1m Tool Message \u001b[0m=================================\n",
      "Name: tavily_search\n",
      "\n",
      "{\"query\": \"latest news on AI\", \"follow_up_questions\": null, \"answer\": null, \"images\": [], \"results\": [{\"url\": \"https://yourstory.com/2025/06/workforce-needs-technical-skills\", \"title\": \"The AI Revolution: Why tomorrow's workforce needs more than technical skills - YourStory.com\", \"score\": 0.7336813, \"published_date\": \"Mon, 30 Jun 2025 11:22:21 GMT\", \"content\": \"Image 15: The AI Revolution: Why tomorrow's workforce needs more than technical skills news ### Startup news and updates: Daily roundup (June 30, 2025) June 30, 2025, 4 min Read Image 22\\\")news ### Startup news and updates: Daily roundup (June 28, 2025) June 28, 2025, 4 min Read Image 23\\\")news ### Startup news and updates: Daily roundup (June 27, 2025) June 27, 2025, 4 min Read Image 24\\\")daily-capsule ### Adda Education forays into skilling; The startups shaping India’s AI agenda June 27, 2025, 6 min Read Image 25news ### Startup news and updates: Daily roundup (June 26, 2025) June 26, 2025, 11 min Read Image 26\\\")ys-in-depth ### Adda Education gives skilling a big push as it looks beyond test-prep June 26, 2025, 11 min Read Image 27events ### Don’t fear AI; it will soon be part of everything you do: Dell Technologies’ Vivekanandh NR on building an AI-first mindset June 25, 2025, 5 min Read Image 28herstoryys-report ### Women engineering students show growing interest in AI/ML careers: Report June 24, 2025, 3 min Read Image 29\", \"raw_content\": null}, {\"url\": \"https://roboticsandautomationnews.com/2025/07/05/the-creation-of-new-ai-careers-4-high-paying-roles-that-didnt-even-exist-five-years-ago/92922/\", \"title\": \"The creation of new AI careers: 4 high-paying roles that didn’t even exist five years ago - Robotics & Automation News\", \"score\": 0.6641271, \"published_date\": \"Sat, 05 Jul 2025 12:24:28 GMT\", \"content\": \"Published Time: 2025-07-05T12:24:28+00:00 New high-paying AI jobs are emerging – and they didn’t exist five years ago *   Skip to primary navigation *   Skip to secondary sidebar *   Privacy *   Publishing *   Sponsor an article Robotics & Automation News *   Automation *   Engineering *   Industrial robots *   Industry *   Material handling *   Materials *   Robotics Image 4: cite image Speaking at a press conference ahead of the China Information Technology Expo, the experts said AI will be the main theme of this year’s event. #### ‘Artificial intelligence will employ next wave of truck drivers’, says survey Primary Sidebar ### Latest articles Copyright ©2025 · News Pro on Genesis Framework · WordPress · Log in #### Privacy Overview - [x] Others \", \"raw_content\": null}, {\"url\": \"https://www.csoonline.com/article/4014238/cybercriminals-take-malicious-ai-to-the-next-level.html\", \"title\": \"Cybercriminals take malicious AI to the next level - csoonline.com\", \"score\": 0.65966886, \"published_date\": \"Mon, 30 Jun 2025 08:32:14 GMT\", \"content\": \"By John Leyden Jun 26, 2025 5 mins IT Jobs Security Operations Center Technology IndustryNews ### The top red teamer in the US is an AI bot By Taryn Plumb Jun 25, 2025 5 mins Artificial Intelligence Generative AI Hacking news analysis ### Cybercriminals take malicious AI to the next level By John Leyden Jun 30, 2025 5 mins Artificial Intelligence Cyberattacks Cybercrime Image 4: Image podcast ### CSO Executive Sessions: How AI and LLMs are affecting security in the financial services industry Mar 20, 2025 13 mins CSO and CISO Financial Services Industry Security Operations Center Image 8: Image video ### Standard Chartered’s Alvaro Garrido on AI threats and what CIOs/CISOs must know in their AI journey Apr 10, 2025 14 mins CIO CSO and CISO Financial Services Industry Image 12: Image\", \"raw_content\": null}, {\"url\": \"https://techcrunch.com/2025/07/02/ai-job-predictions-become-corporate-americas-newest-competitive-sport/\", \"title\": \"AI job predictions become corporate America’s newest competitive sport - TechCrunch\", \"score\": 0.6320719, \"published_date\": \"Thu, 03 Jul 2025 05:30:18 GMT\", \"content\": \"AI job predictions become corporate America's newest competitive sport | TechCrunch AI job predictions become corporate America's newest competitive sport | TechCrunch Site Search Toggle ### More from TechCrunch Add TechCrunch Daily News to your subscription choices  ##### TechCrunch AI TechCrunch's AI experts cover the latest news in the fast-moving field. Add TechCrunch AI to your subscription choices  ##### TechCrunch Space Add TechCrunch Space to your subscription choices  By submitting your email, you agree to our Terms and Privacy Notice. Latest in AI ### Wonder Dynamics co-founder Nikola Todorovic joins the AI Stage at TechCrunch Disrupt 2025 *   TechCrunch Events Image 9: TechCrunch Logo *   TechCrunch *   Privacy Policy Image 11: Opt out of the sale or sharing of personal information\", \"raw_content\": null}, {\"url\": \"https://techcrunch.com/2025/07/01/xai-raises-10b-in-debt-and-equity/\", \"title\": \"xAI raises $10B in debt and equity - TechCrunch\", \"score\": 0.5518883, \"published_date\": \"Tue, 01 Jul 2025 12:35:54 GMT\", \"content\": \"xAI raises $10B in debt and equity | TechCrunch xAI raises $10B in debt and equity | TechCrunch Image 1TechCrunch Desktop LogoImage 2TechCrunch Mobile Logo Site Search Toggle ### More from TechCrunch Elon Musk’s AI company, xAI, has raised $10 billion in debt and equity, Morgan Stanley confirmed on Monday. AI, Elon Musk, Fundraising, xAI ##### TechCrunch AI TechCrunch's AI experts cover the latest news in the fast-moving field. Add TechCrunch AI to your subscription choices  ##### TechCrunch Space By submitting your email, you agree to our Terms and Privacy Notice. Latest in AI Image 9: Genesis AI Image 12: TechCrunch Logo *   TechCrunch *   Privacy Policy Image 13 Image 14: Opt out of the sale or sharing of personal information\", \"raw_content\": null}], \"response_time\": 1.38}\n",
      "=================================\u001b[1m Tool Message \u001b[0m=================================\n",
      "Name: arxiv\n",
      "\n",
      "Published: 2024-08-26\n",
      "Title: AI Thinking: A framework for rethinking artificial intelligence in practice\n",
      "Authors: Denis Newman-Griffis\n",
      "Summary: Artificial intelligence is transforming the way we work with information\n",
      "across disciplines and practical contexts. A growing range of disciplines are\n",
      "now involved in studying, developing, and assessing the use of AI in practice,\n",
      "but these disciplines often employ conflicting understandings of what AI is and\n",
      "what is involved in its use. New, interdisciplinary approaches are needed to\n",
      "bridge competing conceptualisations of AI in practice and help shape the future\n",
      "of AI use. I propose a novel conceptual framework called AI Thinking, which\n",
      "models key decisions and considerations involved in AI use across disciplinary\n",
      "perspectives. The AI Thinking model addresses five practice-based competencies\n",
      "involved in applying AI in context: motivating AI use in information processes,\n",
      "formulating AI methods, assessing available tools and technologies, selecting\n",
      "appropriate data, and situating AI in the sociotechnical contexts it is used\n",
      "in. A hypothetical case study is provided to illustrate the application of AI\n",
      "Thinking in practice. This article situates AI Thinking in broader\n",
      "cross-disciplinary discourses of AI, including its connections to ongoing\n",
      "discussions around AI literacy and AI-driven innovation. AI Thinking can help\n",
      "to bridge divides between academic disciplines and diverse contexts of AI use,\n",
      "and to reshape the future of AI in practice.\n",
      "\n",
      "Published: 2024-07-26\n",
      "Title: Intersymbolic AI: Interlinking Symbolic AI and Subsymbolic AI\n",
      "Authors: André Platzer\n",
      "Summary: This perspective piece calls for the study of the new field of Intersymbolic\n",
      "AI, by which we mean the combination of symbolic AI, whose building blocks have\n",
      "inherent significance/meaning, with subsymbolic AI, whose entirety creates\n",
      "significance/effect despite the fact that individual building blocks escape\n",
      "meaning. Canonical kinds of symbolic AI are logic, games and planning.\n",
      "Canonical kinds of subsymbolic AI are (un)supervised machine and reinforcement\n",
      "learning. Intersymbolic AI interlinks the worlds of symbolic AI with its\n",
      "compositional symbolic significance and meaning and of subsymbolic AI with its\n",
      "summative significance or effect to enable culminations of insights from both\n",
      "worlds by going between and across symbolic AI insights with subsymbolic AI\n",
      "techniques that are being helped by symbolic AI principles. For example,\n",
      "Intersymbolic AI may start with symbolic AI to understand a dynamic system,\n",
      "continue with subsymbolic AI to learn its control, and end with symbolic AI to\n",
      "safely use the outcome of the learned subsymbolic AI controller in the dynamic\n",
      "system. The way Intersymbolic AI combines both symbolic and subsymbolic AI to\n",
      "increase the effectiveness of AI compared to either kind of AI alone is likened\n",
      "to the way that the combination of both conscious and subconscious thought\n",
      "increases the effectiveness of human thought compared to either kind of thought\n",
      "alone. Some successful contributions to the Intersymbolic AI paradigm are\n",
      "surveyed here but many more are considered possible by advancing Intersymbolic\n",
      "AI.\n",
      "\n",
      "Published: 2024-04-17\n",
      "Title: Overconfident and Unconfident AI Hinder Human-AI Collaboration\n",
      "Authors: Jingshu Li, Yitian Yang, Renwen Zhang, Yi-chieh Lee\n",
      "Summary: AI transparency is a central pillar of responsible AI deployment and\n",
      "effective human-AI collaboration. A critical approach is communicating\n",
      "uncertainty, such as displaying AI's confidence level, or its correctness\n",
      "likelihood (CL), to users. However, these confidence levels are often\n",
      "uncalibrated, either overestimating or underestimating actual CL, posing risks\n",
      "and harms to human-AI collaboration. This study examines the effects of\n",
      "uncalibrated AI confidence on users' trust in AI, AI advice adoption, and\n",
      "collaboration outcomes. We further examined the impact of increased\n",
      "transparency, achieved through trust calibration support, on these outcomes.\n",
      "Our results revea\n",
      "=================================\u001b[1m Tool Message \u001b[0m=================================\n",
      "Name: wikipedia\n",
      "\n",
      "Page: Shah Rukh Khan\n",
      "Summary: Shah Rukh Khan (pronounced [ˈʃaːɦɾʊx xäːn] ; born 2 November 1965), also known by the initialism SRK, is an Indian actor and film producer who works in Hindi cinema. Referred to in the media as the \"Baadshah of Bollywood\" and \"King Khan\", he has appeared in more than 100 films, and earned numerous accolades, including 14 Filmfare Awards. He has been awarded the Padma Shri by the Government of India, as well as the Order of Arts and Letters and Legion of Honour by the Government of France. Khan has a significant following in Asia and the Indian diaspora worldwide. In terms of audience size and income, several media outlets have described him as one of the most successful film stars in the world. Many of his films thematise Indian national identity and connections with diaspora communities, or gender, racial, social and religious differences and grievances.\n",
      "Khan began his career with appearances in several television series in the late 1980s and made his Hindi film debut in 1992 with the musical romance Deewana. He was initially recognised for playing villainous roles in the films Baazigar (1993) and Darr (1993). Khan established himself by starring in a series of top-grossing romantic films, including Dilwale Dulhania Le Jayenge (1995), Dil To Pagal Hai (1997), Kuch Kuch Hota Hai (1998), Mohabbatein (2000), Kabhi Khushi Kabhie Gham... (2001), Kal Ho Naa Ho (2003), Veer-Zaara (2004) and Kabhi Alvida Naa Kehna (2006). He earned critical acclaim for his portrayal of an alcoholic in the period romantic drama Devdas (2002), a NASA scientist in the social drama Swades (2004), a hockey coach in the sports drama Chak De! India (2007), and a man with Asperger syndrome in the drama My Name Is Khan (2010). Further commercial successes came with the romances Om Shanti Om (2007) and Rab Ne Bana Di Jodi (2008), and with his expansion to comedies in Chennai Express (2013) and Happy New Year (2014). Following a brief setback and hiatus, Khan made a career comeback with the 2023 action thrillers Pathaan and Jawan, both of which rank among the highest-grossing Indian films.\n",
      "As of 2015, Khan is co-chairman of the motion picture production company Red Chillies Entertainment and its subsidiaries and is the co-owner of the Indian Premier League cricket team Kolkata Knight Riders and the Caribbean Premier League team Trinbago Knight Riders. The media often label him as \"Brand SRK\" because of his many endorsements and entrepreneurship ventures. He is a frequent television presenter and stage show performer. Khan's philanthropic endeavours have provided health care and disaster relief, and he was honoured with UNESCO's Pyramide con Marni award in 2011 for his support of children's education and the World Economic Forum's Crystal Award in 2018 for advocating for women's and children's rights in India. He regularly features in listings of the most influential people in Indian culture, and in 2008, Newsweek named him one of their fifty most powerful people in the world. In 2022, Khan was voted one of the 50 greatest actors of all time in a readers' poll by Empire, and in 2023, Time named him as one of the most influential people in the world.\n",
      "\n",
      "\n",
      "\n",
      "Page: Shah Rukh Khan filmography\n",
      "Summary: Shah Rukh Khan is an Indian actor, producer and television personality who works in Hindi films. He began his acting career by playing a soldier in the Doordarshan series Fauji (1988), a role that garnered him recognition and led to starring roles in more television shows. He soon started receiving film offers and had his first release with the romantic drama Deewana (1992). Khan subsequently played villainous roles in the 1993 thrillers Baazigar and Darr, box office successes that established his career in Bollywood. In 1995, Khan starred opposite Kajol in Aditya Chopra's romance Dilwale Dulhania Le Jayenge, that became the longest running Indian film of all time. He continued to establish a reputation in romantic roles by playing opposite Ma\n"
     ]
    }
   ],
   "source": [
    "graph_v1 = builder.compile()\n",
    "state = {\n",
    "    \"messages\": [\n",
    "        {\"role\": \"user\", \"content\": \"What is the latest news on AI?\"},\n",
    "        {\"role\": \"user\", \"content\": \"What research papers have been published on AI?\"},\n",
    "        {\"role\": \"user\", \"content\": \"Who is Sharukh Khan?\"}\n",
    "    ]\n",
    "}\n",
    "\n",
    "messages = graph_v1.invoke(state)\n",
    "for m in messages[\"messages\"]:\n",
    "    m.pretty_print() \n"
   ]
  },
  {
   "cell_type": "code",
   "execution_count": 15,
   "id": "2920e75e",
   "metadata": {},
   "outputs": [
    {
     "name": "stdout",
     "output_type": "stream",
     "text": [
      "Type \"quit\" to exit.\n",
      "\n",
      "Assistant: The current Prime Minister of India is Narendra Modi. He has been serving since May 26, 2014, and is the first to win three consecutive elections to secure a third successive term.\n"
     ]
    }
   ],
   "source": [
    "def chat():\n",
    "    state = {\"messages\": []}\n",
    "    print('Type \"quit\" to exit.\\n')\n",
    "    while True:\n",
    "        user = input(\"You: \").strip()\n",
    "        if user.lower() in {\"quit\", \"exit\", \"q\"}:\n",
    "            break\n",
    "        state[\"messages\"].append({\"role\": \"user\", \"content\": user})\n",
    "        reply_state = graph.invoke(state)\n",
    "        state[\"messages\"] = reply_state[\"messages\"]\n",
    "        print(\"Assistant:\", state[\"messages\"][-1].content)\n",
    "\n",
    "chat()\n"
   ]
  },
  {
   "cell_type": "code",
   "execution_count": null,
   "id": "e38a605b",
   "metadata": {},
   "outputs": [],
   "source": []
  },
  {
   "cell_type": "code",
   "execution_count": null,
   "id": "b2c9b84d",
   "metadata": {},
   "outputs": [],
   "source": []
  }
 ],
 "metadata": {
  "kernelspec": {
   "display_name": "base",
   "language": "python",
   "name": "python3"
  },
  "language_info": {
   "codemirror_mode": {
    "name": "ipython",
    "version": 3
   },
   "file_extension": ".py",
   "mimetype": "text/x-python",
   "name": "python",
   "nbconvert_exporter": "python",
   "pygments_lexer": "ipython3",
   "version": "3.12.7"
  }
 },
 "nbformat": 4,
 "nbformat_minor": 5
}
