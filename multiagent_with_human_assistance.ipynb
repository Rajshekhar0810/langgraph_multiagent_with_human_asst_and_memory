{
 "cells": [
  {
   "cell_type": "code",
   "execution_count": 14,
   "id": "1e4b5ec4",
   "metadata": {},
   "outputs": [],
   "source": [
    "from langgraph.graph import StateGraph,START , END\n",
    "from typing import Annotated\n",
    "from typing_extensions import TypedDict\n",
    "from langgraph.graph.message  import add_messages\n",
    "from langgraph.prebuilt import ToolNode,tools_condition\n",
    "from langgraph.types import Command,interrupt  # for human assistance\n",
    "from langchain.tools import tool"
   ]
  },
  {
   "cell_type": "code",
   "execution_count": 27,
   "id": "b3f8ee57",
   "metadata": {},
   "outputs": [],
   "source": [
    "from langgraph.checkpoint.memory import MemorySaver\n",
    "\n",
    "memory = MemorySaver()"
   ]
  },
  {
   "cell_type": "code",
   "execution_count": 9,
   "id": "8251575b",
   "metadata": {},
   "outputs": [
    {
     "data": {
      "text/plain": [
       "<function os.getenv(key, default=None)>"
      ]
     },
     "execution_count": 9,
     "metadata": {},
     "output_type": "execute_result"
    }
   ],
   "source": [
    "from dotenv import load_dotenv\n",
    "import os\n",
    "load_dotenv()\n",
    "os.getenv"
   ]
  },
  {
   "cell_type": "code",
   "execution_count": 12,
   "id": "b0334dde",
   "metadata": {},
   "outputs": [],
   "source": [
    "from langchain_openai import ChatOpenAI\n",
    "llm = ChatOpenAI(model=\"gpt-4o\",)"
   ]
  },
  {
   "cell_type": "code",
   "execution_count": 15,
   "id": "0804a8f5",
   "metadata": {},
   "outputs": [],
   "source": [
    "from langchain_tavily import TavilySearch\n",
    "\n",
    "@tool\n",
    "def human_assistance(query: str) -> str:\n",
    "    \"\"\"Request assistance from a human.\"\"\"\n",
    "    human_response = interrupt({\"query\": query})\n",
    "    return human_response[\"data\"]\n",
    "\n",
    "\n",
    "tavily_tool = TavilySearch()\n",
    "tools = [tavily_tool, human_assistance]\n",
    "\n",
    "llm_with_tools = llm.bind_tools(tools)"
   ]
  },
  {
   "cell_type": "code",
   "execution_count": 16,
   "id": "1403d13a",
   "metadata": {},
   "outputs": [],
   "source": [
    "class State(TypedDict):\n",
    "    messages : Annotated[list,add_messages]"
   ]
  },
  {
   "cell_type": "code",
   "execution_count": 28,
   "id": "60776736",
   "metadata": {},
   "outputs": [],
   "source": [
    "graph_builder = StateGraph(State)\n",
    "\n",
    "def Biva(State):\n",
    "    \"\"\"Biva is a multi-agent system that can search the web and ask for human assistance.\"\"\"\n",
    "    return {\"messages\" : [llm_with_tools.invoke(State[\"messages\"])]}\n",
    "\n",
    "graph_builder.add_node(\"Biva\",Biva)\n",
    "graph_builder.add_node(\"tools\", ToolNode(tools))\n",
    "graph_builder.add_edge(START, \"Biva\")\n",
    "graph_builder.add_conditional_edges(\"Biva\",tools_condition)\n",
    "graph_builder.add_edge(\"tools\",\"Biva\")\n",
    "graph_builder.add_edge(\"Biva\", END)\n",
    "graph = graph_builder.compile(checkpointer=memory)"
   ]
  },
  {
   "cell_type": "code",
   "execution_count": 30,
   "id": "9a380d17",
   "metadata": {},
   "outputs": [
    {
     "name": "stdout",
     "output_type": "stream",
     "text": [
      "================================\u001b[1m Human Message \u001b[0m=================================\n",
      "\n",
      "I need some expert guidance for building an AI agent. Could you request assistance for me?\n",
      "==================================\u001b[1m Ai Message \u001b[0m==================================\n",
      "Tool Calls:\n",
      "  human_assistance (call_CGzop4ajRwUFgYuVqVRbNOGg)\n",
      " Call ID: call_CGzop4ajRwUFgYuVqVRbNOGg\n",
      "  Args:\n",
      "    query: I need expert guidance for building an AI agent.\n"
     ]
    }
   ],
   "source": [
    "run_cfg = {\"configurable\": {\"thread_id\": \"1\"}}\n",
    "\n",
    "messages = graph.invoke(\n",
    "    {\"messages\": [{\"role\": \"user\", \"content\": \"I need some expert guidance for building an AI agent. Could you request assistance for me?\"}]},\n",
    "    config=run_cfg\n",
    ")\n",
    "for m in messages[\"messages\"]:\n",
    "    m.pretty_print()"
   ]
  },
  {
   "cell_type": "code",
   "execution_count": 32,
   "id": "50011176",
   "metadata": {},
   "outputs": [
    {
     "name": "stdout",
     "output_type": "stream",
     "text": [
      "==================================\u001b[1m Ai Message \u001b[0m==================================\n",
      "Tool Calls:\n",
      "  human_assistance (call_CGzop4ajRwUFgYuVqVRbNOGg)\n",
      " Call ID: call_CGzop4ajRwUFgYuVqVRbNOGg\n",
      "  Args:\n",
      "    query: I need expert guidance for building an AI agent.\n",
      "=================================\u001b[1m Tool Message \u001b[0m=================================\n",
      "Name: human_assistance\n",
      "\n",
      "We, the experts are here to help! We'd recommend you check out LangGraph to build your agent. It's much more reliable and extensible than simple autonomous agents.\n",
      "==================================\u001b[1m Ai Message \u001b[0m==================================\n",
      "\n",
      "One of our experts recommends using **LangGraph** for building your AI agent, as it offers more reliability and extensibility compared to simple autonomous agents. Feel free to reach out if you need more details!\n"
     ]
    }
   ],
   "source": [
    "human_response = (\n",
    "    \"We, the experts are here to help! We'd recommend you check out LangGraph to build your agent.\"\n",
    "    \" It's much more reliable and extensible than simple autonomous agents.\"\n",
    ")\n",
    "\n",
    "human_command = Command(resume={\"data\": human_response})\n",
    "\n",
    "events = graph.stream(human_command, run_cfg, stream_mode=\"values\")\n",
    "for event in events:\n",
    "    if \"messages\" in event:\n",
    "        event[\"messages\"][-1].pretty_print()"
   ]
  },
  {
   "cell_type": "code",
   "execution_count": null,
   "id": "4f9f594b",
   "metadata": {},
   "outputs": [],
   "source": []
  },
  {
   "cell_type": "code",
   "execution_count": null,
   "id": "147c0c86",
   "metadata": {},
   "outputs": [],
   "source": []
  },
  {
   "cell_type": "code",
   "execution_count": null,
   "id": "6ef83021",
   "metadata": {},
   "outputs": [],
   "source": []
  },
  {
   "cell_type": "code",
   "execution_count": null,
   "id": "3ea0cc88",
   "metadata": {},
   "outputs": [],
   "source": []
  }
 ],
 "metadata": {
  "kernelspec": {
   "display_name": "base",
   "language": "python",
   "name": "python3"
  },
  "language_info": {
   "codemirror_mode": {
    "name": "ipython",
    "version": 3
   },
   "file_extension": ".py",
   "mimetype": "text/x-python",
   "name": "python",
   "nbconvert_exporter": "python",
   "pygments_lexer": "ipython3",
   "version": "3.12.7"
  }
 },
 "nbformat": 4,
 "nbformat_minor": 5
}
