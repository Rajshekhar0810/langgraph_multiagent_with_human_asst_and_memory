{
 "cells": [
  {
   "cell_type": "code",
   "execution_count": 2,
   "id": "635a17aa",
   "metadata": {},
   "outputs": [],
   "source": [
    "from langgraph.graph import StateGraph, START,END\n",
    "from langgraph.prebuilt import ToolNode, tools_condition\n",
    "from typing import Annotated\n",
    "from typing_extensions import TypedDict\n",
    "from langgraph.graph.message import add_messages"
   ]
  },
  {
   "cell_type": "code",
   "execution_count": 3,
   "id": "cd530d71",
   "metadata": {},
   "outputs": [
    {
     "data": {
      "text/plain": [
       "<function os.getenv(key, default=None)>"
      ]
     },
     "execution_count": 3,
     "metadata": {},
     "output_type": "execute_result"
    }
   ],
   "source": [
    "from dotenv import load_dotenv\n",
    "import os\n",
    "load_dotenv()\n",
    "os.getenv"
   ]
  },
  {
   "cell_type": "code",
   "execution_count": 4,
   "id": "10c180af",
   "metadata": {},
   "outputs": [],
   "source": [
    "from langchain_openai import ChatOpenAI\n",
    "llm = ChatOpenAI(\n",
    "    model=\"gpt-4o\",\n",
    "    temperature=0.0,\n",
    "    max_tokens=1000,\n",
    "    streaming=True,\n",
    ")"
   ]
  },
  {
   "cell_type": "code",
   "execution_count": 5,
   "id": "1edadc6e",
   "metadata": {},
   "outputs": [],
   "source": [
    "from langchain_community.tools.openweathermap.tool import OpenWeatherMapQueryRun\n",
    "from langchain_community.utilities.openweathermap import OpenWeatherMapAPIWrapper\n",
    "from langchain_tavily import TavilySearch\n",
    "from langchain_community.tools.arxiv.tool import ArxivQueryRun\n",
    "from langchain_community.utilities.arxiv import ArxivAPIWrapper  # Searches for academic papers.\n",
    "from langchain_community.tools import WikipediaQueryRun\n",
    "from langchain_community.utilities import WikipediaAPIWrapper\n",
    "\n",
    "\n",
    "\n",
    "\n",
    "\n",
    "\n",
    "weather_tool = OpenWeatherMapQueryRun(api_wrapper=OpenWeatherMapAPIWrapper())\n",
    "tavily_tool = TavilySearch()\n",
    "arxiv_tool = ArxivQueryRun(api_wrapper=ArxivAPIWrapper())\n",
    "wiki_tool = WikipediaQueryRun(api_wrapper=WikipediaAPIWrapper())\n",
    "tools = [weather_tool,tavily_tool,arxiv_tool,wiki_tool]"
   ]
  },
  {
   "cell_type": "code",
   "execution_count": 6,
   "id": "f0d352ac",
   "metadata": {},
   "outputs": [],
   "source": [
    "llm_with_tools = llm.bind_tools(tools)"
   ]
  },
  {
   "cell_type": "code",
   "execution_count": 7,
   "id": "83b9b1d9",
   "metadata": {},
   "outputs": [],
   "source": [
    "class state(TypedDict):\n",
    "    messages: Annotated[list,add_messages]\n",
    "\n",
    "graph_builder = StateGraph(state)"
   ]
  },
  {
   "cell_type": "code",
   "execution_count": 8,
   "id": "84255c18",
   "metadata": {},
   "outputs": [],
   "source": [
    "def Biva(state):\n",
    "   return {\"messages\": [llm_with_tools.invoke(state[\"messages\"])]}  \n",
    "\n",
    "graph_builder.add_node(\"Biva\",Biva)\n",
    "graph_builder.add_node(\"tools\",ToolNode(tools))\n",
    "graph_builder.add_edge(START, \"Biva\")\n",
    "graph_builder.add_conditional_edges(\"Biva\",tools_condition)\n",
    "graph_builder.add_edge(\"tools\",\"Biva\")\n",
    "graph_builder.add_edge(\"Biva\", END)\n",
    "graph = graph_builder.compile()"
   ]
  },
  {
   "cell_type": "code",
   "execution_count": 9,
   "id": "3c5fa5d8",
   "metadata": {},
   "outputs": [
    {
     "data": {
      "image/png": "[encoded data removed]",
      "text/plain": [
       "<IPython.core.display.Image object>"
      ]
     },
     "metadata": {},
     "output_type": "display_data"
    }
   ],
   "source": [
    "from IPython.display import Image, display\n",
    "\n",
    "try:\n",
    "    display(Image(graph.get_graph().draw_mermaid_png()))\n",
    "except Exception:\n",
    "    # This requires some extra dependencies and is optional\n",
    "    pass"
   ]
  },
  {
   "cell_type": "markdown",
   "id": "2c58e6d8",
   "metadata": {},
   "source": []
  },
  {
   "cell_type": "markdown",
   "id": "b7cd320d",
   "metadata": {},
   "source": [
    "The chatbot can now use tools to answer user questions, but it does not remember the context of previous interactions\n",
    "\n",
    "\n",
    "LangGraph solves this problem through persistent checkpointing. If you provide a checkpointer when compiling the graph and a thread_id when calling your graph, LangGraph automatically saves the state after each step. When you invoke the graph again using the same thread_id, the graph loads its saved state, allowing the chatbot to pick up where it left off.\n",
    "\n",
    "\n",
    "checkpointing is much more powerful than simple chat memory "
   ]
  },
  {
   "cell_type": "markdown",
   "id": "6c1bb384",
   "metadata": {},
   "source": [
    "This is in-memory checkpointer, which is convenient for the tutorial. However, in a production application, you would likely change this to use SqliteSaver or PostgresSaver and connect a database."
   ]
  },
  {
   "cell_type": "code",
   "execution_count": 10,
   "id": "2fc97e9b",
   "metadata": {},
   "outputs": [],
   "source": [
    "from langgraph.checkpoint.memory import MemorySaver\n",
    "\n",
    "memory = MemorySaver()"
   ]
  },
  {
   "cell_type": "code",
   "execution_count": 11,
   "id": "eacb6c93",
   "metadata": {},
   "outputs": [],
   "source": [
    "graph = graph_builder.compile(checkpointer=memory)"
   ]
  },
  {
   "cell_type": "code",
   "execution_count": 12,
   "id": "808f3c4f",
   "metadata": {},
   "outputs": [
    {
     "data": {
      "image/png": "[encoded data removed]",
      "text/plain": [
       "<IPython.core.display.Image object>"
      ]
     },
     "metadata": {},
     "output_type": "display_data"
    }
   ],
   "source": [
    "from IPython.display import Image, display\n",
    "\n",
    "try:\n",
    "    display(Image(graph.get_graph().draw_mermaid_png()))\n",
    "except Exception:\n",
    "    # This requires some extra dependencies and is optional\n",
    "    pass"
   ]
  },
  {
   "cell_type": "markdown",
   "id": "5dcd32b5",
   "metadata": {},
   "source": [
    " your graph is compiled with a checkpointer, and every time you run a checkpoint‑enabled graph LangGraph expects you to tell it which **“thread” (conversation)** this run belongs to. You do that by supplying a tiny config dict that contains at least a thread_id."
   ]
  },
  {
   "cell_type": "code",
   "execution_count": 14,
   "id": "f48d47f8",
   "metadata": {},
   "outputs": [
    {
     "name": "stdout",
     "output_type": "stream",
     "text": [
      "================================\u001b[1m Human Message \u001b[0m=================================\n",
      "\n",
      "Who is the Prime Minister of India?\n",
      "==================================\u001b[1m Ai Message \u001b[0m==================================\n",
      "Tool Calls:\n",
      "  wikipedia (call_sY9Qv2R6vZnIEqUoJ4r4YiUZ)\n",
      " Call ID: call_sY9Qv2R6vZnIEqUoJ4r4YiUZ\n",
      "  Args:\n",
      "    query: Prime Minister of India\n",
      "=================================\u001b[1m Tool Message \u001b[0m=================================\n",
      "Name: wikipedia\n",
      "\n",
      "Page: Prime Minister of India\n",
      "Summary: The prime minister of India (ISO: Bhārata kē Pradhānamantrī) is the head of government of the Republic of India. Executive authority is vested in the prime minister and his chosen Council of Ministers, despite the president of India being the nominal head of the executive.  The prime minister has to be a member of one of the houses of bicameral Parliament of India, alongside heading the respective house. The prime minister and the cabinet are at all times responsible to the Lok Sabha.\n",
      "The prime minister is appointed by the president of India; however, the prime minister has to enjoy the confidence of the majority of Lok Sabha members, who are directly elected every five years, lest the prime minister shall resign. The prime minister can be a member of the Lok Sabha or the Rajya Sabha, the upper house of the parliament. The prime minister controls the selection and dismissal of members of the Union Council of Ministers; and allocation of posts to members within the government.\n",
      "The longest-serving prime minister was Jawaharlal Nehru, also the first prime minister, whose tenure lasted 16 years and 286 days. His premiership was followed by Lal Bahadur Shastri's short tenure and Indira Gandhi's 11- and 4-year-long tenures, both politicians belonging to the Indian National Congress. After Indira Gandhi's assassination, her son Rajiv Gandhi took charge until 1989, when a decade with five unstable governments began. This was followed by the full terms of P. V. Narasimha Rao, Atal Bihari Vajpayee, Manmohan Singh, and Narendra Modi. Modi is the current prime minister of India, serving since 26 May 2014 and the first to win three consecutive elections to secure a third successive term, 2014, 2019, 2024.\n",
      "\n",
      "\n",
      "\n",
      "Page: List of prime ministers of India\n",
      "Summary: The prime minister of India is the chief executive of the Government of India and chair of the Union Council of Ministers. Although the president of India is the constitutional, nominal, and ceremonial head of state, in practice and ordinarily, the executive authority is vested in the prime minister and their chosen Council of Ministers. The prime minister is the leader elected by the party with a majority in the lower house of the Indian parliament, the Lok Sabha, which is the main legislative body in the Republic of India. The prime minister and their cabinet are at all times responsible to the Lok Sabha. The prime minister can be a member of the Lok Sabha or of the Rajya Sabha, the upper house of the parliament. The prime minister ranks third in the order of precedence.\n",
      "\n",
      "The prime minister is appointed by the president of India; however, the prime minister has to enjoy the confidence of the majority of Lok Sabha members, who are directly elected every five years, unless a prime minister resigns. The prime minister is the presiding member of the Council of Ministers of the Union government. The prime minister unilaterally controls the selection and dismissal of members of the council; and allocation of posts to members within the government. This council, which is collectively responsible to the Lok Sabha as per Article 75(3), assists the president regarding the operations under the latter's powers; however, by the virtue of Article 74 of the Constitution, such 'aid and advice' tendered by the council is binding.\n",
      "Since 1947, India has had 14 prime ministers. Jawaharlal Nehru was India's first prime minister, serving as prime minister of the Dominion of India from 15 August 1947 until 26 January 1950, and thereafter of the Republic of India until his death in May 1964. (India conducted its first post-independence general elections in 1952). Earlier, Nehru had served as prime minister of the Interim Government of India during the British Raj from 2 September 1946 until 14 August 1947, his party, the Indian National Congress having won the 1946 Indian provincial elections. Nehru was succeeded by Lal Bahadur Shastri, whose 1 year 7-month term ended in \n",
      "==================================\u001b[1m Ai Message \u001b[0m==================================\n",
      "\n",
      "The current Prime Minister of India is Narendra Modi. He has been serving since May 26, 2014.\n"
     ]
    }
   ],
   "source": [
    "#Pick a thread to use as the key for this conversation.\n",
    "run_cfg = {\"configurable\": {\"thread_id\": \"1\"}}\n",
    "\n",
    "messages = graph.invoke(\n",
    "    {\"messages\": [{\"role\": \"user\", \"content\": \"Who is the Prime Minister of India?\"}]},\n",
    "    config=run_cfg  \n",
    ")\n",
    "\n",
    "for m in messages[\"messages\"]:\n",
    "    m.pretty_print()"
   ]
  },
  {
   "cell_type": "code",
   "execution_count": 15,
   "id": "e4203b1c",
   "metadata": {},
   "outputs": [
    {
     "name": "stdout",
     "output_type": "stream",
     "text": [
      "================================\u001b[1m Human Message \u001b[0m=================================\n",
      "\n",
      "Who is the Prime Minister of India?\n",
      "==================================\u001b[1m Ai Message \u001b[0m==================================\n",
      "Tool Calls:\n",
      "  wikipedia (call_sY9Qv2R6vZnIEqUoJ4r4YiUZ)\n",
      " Call ID: call_sY9Qv2R6vZnIEqUoJ4r4YiUZ\n",
      "  Args:\n",
      "    query: Prime Minister of India\n",
      "=================================\u001b[1m Tool Message \u001b[0m=================================\n",
      "Name: wikipedia\n",
      "\n",
      "Page: Prime Minister of India\n",
      "Summary: The prime minister of India (ISO: Bhārata kē Pradhānamantrī) is the head of government of the Republic of India. Executive authority is vested in the prime minister and his chosen Council of Ministers, despite the president of India being the nominal head of the executive.  The prime minister has to be a member of one of the houses of bicameral Parliament of India, alongside heading the respective house. The prime minister and the cabinet are at all times responsible to the Lok Sabha.\n",
      "The prime minister is appointed by the president of India; however, the prime minister has to enjoy the confidence of the majority of Lok Sabha members, who are directly elected every five years, lest the prime minister shall resign. The prime minister can be a member of the Lok Sabha or the Rajya Sabha, the upper house of the parliament. The prime minister controls the selection and dismissal of members of the Union Council of Ministers; and allocation of posts to members within the government.\n",
      "The longest-serving prime minister was Jawaharlal Nehru, also the first prime minister, whose tenure lasted 16 years and 286 days. His premiership was followed by Lal Bahadur Shastri's short tenure and Indira Gandhi's 11- and 4-year-long tenures, both politicians belonging to the Indian National Congress. After Indira Gandhi's assassination, her son Rajiv Gandhi took charge until 1989, when a decade with five unstable governments began. This was followed by the full terms of P. V. Narasimha Rao, Atal Bihari Vajpayee, Manmohan Singh, and Narendra Modi. Modi is the current prime minister of India, serving since 26 May 2014 and the first to win three consecutive elections to secure a third successive term, 2014, 2019, 2024.\n",
      "\n",
      "\n",
      "\n",
      "Page: List of prime ministers of India\n",
      "Summary: The prime minister of India is the chief executive of the Government of India and chair of the Union Council of Ministers. Although the president of India is the constitutional, nominal, and ceremonial head of state, in practice and ordinarily, the executive authority is vested in the prime minister and their chosen Council of Ministers. The prime minister is the leader elected by the party with a majority in the lower house of the Indian parliament, the Lok Sabha, which is the main legislative body in the Republic of India. The prime minister and their cabinet are at all times responsible to the Lok Sabha. The prime minister can be a member of the Lok Sabha or of the Rajya Sabha, the upper house of the parliament. The prime minister ranks third in the order of precedence.\n",
      "\n",
      "The prime minister is appointed by the president of India; however, the prime minister has to enjoy the confidence of the majority of Lok Sabha members, who are directly elected every five years, unless a prime minister resigns. The prime minister is the presiding member of the Council of Ministers of the Union government. The prime minister unilaterally controls the selection and dismissal of members of the council; and allocation of posts to members within the government. This council, which is collectively responsible to the Lok Sabha as per Article 75(3), assists the president regarding the operations under the latter's powers; however, by the virtue of Article 74 of the Constitution, such 'aid and advice' tendered by the council is binding.\n",
      "Since 1947, India has had 14 prime ministers. Jawaharlal Nehru was India's first prime minister, serving as prime minister of the Dominion of India from 15 August 1947 until 26 January 1950, and thereafter of the Republic of India until his death in May 1964. (India conducted its first post-independence general elections in 1952). Earlier, Nehru had served as prime minister of the Interim Government of India during the British Raj from 2 September 1946 until 14 August 1947, his party, the Indian National Congress having won the 1946 Indian provincial elections. Nehru was succeeded by Lal Bahadur Shastri, whose 1 year 7-month term ended in \n",
      "==================================\u001b[1m Ai Message \u001b[0m==================================\n",
      "\n",
      "The current Prime Minister of India is Narendra Modi. He has been serving since May 26, 2014.\n",
      "================================\u001b[1m Human Message \u001b[0m=================================\n",
      "\n",
      "What is his current age now?\n",
      "==================================\u001b[1m Ai Message \u001b[0m==================================\n",
      "\n",
      "Narendra Modi was born on September 17, 1950. As of today, he is 73 years old.\n"
     ]
    }
   ],
   "source": [
    "messages = graph.invoke(\n",
    "    {\"messages\": [{\"role\": \"user\", \"content\": \"What is his current age now?\"}]},\n",
    "    config=run_cfg  \n",
    ")\n",
    "\n",
    "for m in messages[\"messages\"]:\n",
    "    m.pretty_print()"
   ]
  },
  {
   "cell_type": "code",
   "execution_count": null,
   "id": "2ae89099",
   "metadata": {},
   "outputs": [],
   "source": []
  },
  {
   "cell_type": "code",
   "execution_count": null,
   "id": "7a8e83b1",
   "metadata": {},
   "outputs": [],
   "source": []
  }
 ],
 "metadata": {
  "kernelspec": {
   "display_name": "base",
   "language": "python",
   "name": "python3"
  },
  "language_info": {
   "codemirror_mode": {
    "name": "ipython",
    "version": 3
   },
   "file_extension": ".py",
   "mimetype": "text/x-python",
   "name": "python",
   "nbconvert_exporter": "python",
   "pygments_lexer": "ipython3",
   "version": "3.12.7"
  }
 },
 "nbformat": 4,
 "nbformat_minor": 5
}
