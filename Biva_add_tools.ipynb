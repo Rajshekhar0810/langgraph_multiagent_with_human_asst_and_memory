{
 "cells": [
  {
   "cell_type": "code",
   "execution_count": 1,
   "id": "d3b23e72",
   "metadata": {},
   "outputs": [
    {
     "name": "stdout",
     "output_type": "stream",
     "text": [
      "Requirement already satisfied: langchain-tavily in c:\\users\\biva chandra shekhar\\anaconda3\\lib\\site-packages (0.2.6)\n",
      "Requirement already satisfied: aiohttp<4.0.0,>=3.11.14 in c:\\users\\biva chandra shekhar\\anaconda3\\lib\\site-packages (from langchain-tavily) (3.12.13)\n",
      "Requirement already satisfied: langchain<0.4.0,>=0.3.20 in c:\\users\\biva chandra shekhar\\anaconda3\\lib\\site-packages (from langchain-tavily) (0.3.20)\n",
      "Requirement already satisfied: langchain-core<0.4.0,>=0.3.15 in c:\\users\\biva chandra shekhar\\anaconda3\\lib\\site-packages (from langchain-tavily) (0.3.66)\n",
      "Requirement already satisfied: requests<3.0.0,>=2.32.3 in c:\\users\\biva chandra shekhar\\anaconda3\\lib\\site-packages (from langchain-tavily) (2.32.3)\n",
      "Requirement already satisfied: aiohappyeyeballs>=2.5.0 in c:\\users\\biva chandra shekhar\\anaconda3\\lib\\site-packages (from aiohttp<4.0.0,>=3.11.14->langchain-tavily) (2.6.1)\n",
      "Requirement already satisfied: aiosignal>=1.1.2 in c:\\users\\biva chandra shekhar\\anaconda3\\lib\\site-packages (from aiohttp<4.0.0,>=3.11.14->langchain-tavily) (1.2.0)\n",
      "Requirement already satisfied: attrs>=17.3.0 in c:\\users\\biva chandra shekhar\\anaconda3\\lib\\site-packages (from aiohttp<4.0.0,>=3.11.14->langchain-tavily) (23.1.0)\n",
      "Requirement already satisfied: frozenlist>=1.1.1 in c:\\users\\biva chandra shekhar\\anaconda3\\lib\\site-packages (from aiohttp<4.0.0,>=3.11.14->langchain-tavily) (1.4.0)\n",
      "Requirement already satisfied: multidict<7.0,>=4.5 in c:\\users\\biva chandra shekhar\\anaconda3\\lib\\site-packages (from aiohttp<4.0.0,>=3.11.14->langchain-tavily) (6.0.4)\n",
      "Requirement already satisfied: propcache>=0.2.0 in c:\\users\\biva chandra shekhar\\anaconda3\\lib\\site-packages (from aiohttp<4.0.0,>=3.11.14->langchain-tavily) (0.3.2)\n",
      "Requirement already satisfied: yarl<2.0,>=1.17.0 in c:\\users\\biva chandra shekhar\\anaconda3\\lib\\site-packages (from aiohttp<4.0.0,>=3.11.14->langchain-tavily) (1.20.1)\n",
      "Requirement already satisfied: langchain-text-splitters<1.0.0,>=0.3.6 in c:\\users\\biva chandra shekhar\\anaconda3\\lib\\site-packages (from langchain<0.4.0,>=0.3.20->langchain-tavily) (0.3.6)\n",
      "Requirement already satisfied: langsmith<0.4,>=0.1.17 in c:\\users\\biva chandra shekhar\\anaconda3\\lib\\site-packages (from langchain<0.4.0,>=0.3.20->langchain-tavily) (0.3.45)\n",
      "Requirement already satisfied: pydantic<3.0.0,>=2.7.4 in c:\\users\\biva chandra shekhar\\anaconda3\\lib\\site-packages (from langchain<0.4.0,>=0.3.20->langchain-tavily) (2.8.2)\n",
      "Requirement already satisfied: SQLAlchemy<3,>=1.4 in c:\\users\\biva chandra shekhar\\anaconda3\\lib\\site-packages (from langchain<0.4.0,>=0.3.20->langchain-tavily) (2.0.34)\n",
      "Requirement already satisfied: PyYAML>=5.3 in c:\\users\\biva chandra shekhar\\anaconda3\\lib\\site-packages (from langchain<0.4.0,>=0.3.20->langchain-tavily) (6.0.1)\n",
      "Requirement already satisfied: tenacity!=8.4.0,<10.0.0,>=8.1.0 in c:\\users\\biva chandra shekhar\\anaconda3\\lib\\site-packages (from langchain-core<0.4.0,>=0.3.15->langchain-tavily) (8.2.3)\n",
      "Requirement already satisfied: jsonpatch<2.0,>=1.33 in c:\\users\\biva chandra shekhar\\anaconda3\\lib\\site-packages (from langchain-core<0.4.0,>=0.3.15->langchain-tavily) (1.33)\n",
      "Requirement already satisfied: packaging<25,>=23.2 in c:\\users\\biva chandra shekhar\\anaconda3\\lib\\site-packages (from langchain-core<0.4.0,>=0.3.15->langchain-tavily) (24.2)\n",
      "Requirement already satisfied: typing-extensions>=4.7 in c:\\users\\biva chandra shekhar\\anaconda3\\lib\\site-packages (from langchain-core<0.4.0,>=0.3.15->langchain-tavily) (4.11.0)\n",
      "Requirement already satisfied: charset-normalizer<4,>=2 in c:\\users\\biva chandra shekhar\\anaconda3\\lib\\site-packages (from requests<3.0.0,>=2.32.3->langchain-tavily) (3.3.2)\n",
      "Requirement already satisfied: idna<4,>=2.5 in c:\\users\\biva chandra shekhar\\anaconda3\\lib\\site-packages (from requests<3.0.0,>=2.32.3->langchain-tavily) (3.7)\n",
      "Requirement already satisfied: urllib3<3,>=1.21.1 in c:\\users\\biva chandra shekhar\\anaconda3\\lib\\site-packages (from requests<3.0.0,>=2.32.3->langchain-tavily) (2.2.3)\n",
      "Requirement already satisfied: certifi>=2017.4.17 in c:\\users\\biva chandra shekhar\\anaconda3\\lib\\site-packages (from requests<3.0.0,>=2.32.3->langchain-tavily) (2025.1.31)\n",
      "Requirement already satisfied: jsonpointer>=1.9 in c:\\users\\biva chandra shekhar\\anaconda3\\lib\\site-packages (from jsonpatch<2.0,>=1.33->langchain-core<0.4.0,>=0.3.15->langchain-tavily) (2.1)\n",
      "Requirement already satisfied: httpx<1,>=0.23.0 in c:\\users\\biva chandra shekhar\\anaconda3\\lib\\site-packages (from langsmith<0.4,>=0.1.17->langchain<0.4.0,>=0.3.20->langchain-tavily) (0.27.0)\n",
      "Requirement already satisfied: orjson<4.0.0,>=3.9.14 in c:\\users\\biva chandra shekhar\\anaconda3\\lib\\site-packages (from langsmith<0.4,>=0.1.17->langchain<0.4.0,>=0.3.20->langchain-tavily) (3.10.15)\n",
      "Requirement already satisfied: requests-toolbelt<2.0.0,>=1.0.0 in c:\\users\\biva chandra shekhar\\anaconda3\\lib\\site-packages (from langsmith<0.4,>=0.1.17->langchain<0.4.0,>=0.3.20->langchain-tavily) (1.0.0)\n",
      "Requirement already satisfied: zstandard<0.24.0,>=0.23.0 in c:\\users\\biva chandra shekhar\\anaconda3\\lib\\site-packages (from langsmith<0.4,>=0.1.17->langchain<0.4.0,>=0.3.20->langchain-tavily) (0.23.0)\n",
      "Requirement already satisfied: annotated-types>=0.4.0 in c:\\users\\biva chandra shekhar\\anaconda3\\lib\\site-packages (from pydantic<3.0.0,>=2.7.4->langchain<0.4.0,>=0.3.20->langchain-tavily) (0.6.0)\n",
      "Requirement already satisfied: pydantic-core==2.20.1 in c:\\users\\biva chandra shekhar\\anaconda3\\lib\\site-packages (from pydantic<3.0.0,>=2.7.4->langchain<0.4.0,>=0.3.20->langchain-tavily) (2.20.1)\n",
      "Requirement already satisfied: greenlet!=0.4.17 in c:\\users\\biva chandra shekhar\\anaconda3\\lib\\site-packages (from SQLAlchemy<3,>=1.4->langchain<0.4.0,>=0.3.20->langchain-tavily) (3.0.1)\n",
      "Requirement already satisfied: anyio in c:\\users\\biva chandra shekhar\\anaconda3\\lib\\site-packages (from httpx<1,>=0.23.0->langsmith<0.4,>=0.1.17->langchain<0.4.0,>=0.3.20->langchain-tavily) (4.2.0)\n",
      "Requirement already satisfied: httpcore==1.* in c:\\users\\biva chandra shekhar\\anaconda3\\lib\\site-packages (from httpx<1,>=0.23.0->langsmith<0.4,>=0.1.17->langchain<0.4.0,>=0.3.20->langchain-tavily) (1.0.2)\n",
      "Requirement already satisfied: sniffio in c:\\users\\biva chandra shekhar\\anaconda3\\lib\\site-packages (from httpx<1,>=0.23.0->langsmith<0.4,>=0.1.17->langchain<0.4.0,>=0.3.20->langchain-tavily) (1.3.0)\n",
      "Requirement already satisfied: h11<0.15,>=0.13 in c:\\users\\biva chandra shekhar\\anaconda3\\lib\\site-packages (from httpcore==1.*->httpx<1,>=0.23.0->langsmith<0.4,>=0.1.17->langchain<0.4.0,>=0.3.20->langchain-tavily) (0.14.0)\n"
     ]
    }
   ],
   "source": [
    "! pip install langchain-tavily"
   ]
  },
  {
   "cell_type": "code",
   "execution_count": 2,
   "id": "e62a9d33",
   "metadata": {},
   "outputs": [
    {
     "data": {
      "text/plain": [
       "{'query': 'Who is the president of the United States?',\n",
       " 'follow_up_questions': None,\n",
       " 'answer': None,\n",
       " 'images': [],\n",
       " 'results': [{'url': 'https://en.wikipedia.org/wiki/President_of_the_United_States',\n",
       "   'title': 'President of the United States - Wikipedia',\n",
       "   'content': 'The president of the United States (POTUS) is the head of state and head of government of the United States. The president directs the executive branch of the',\n",
       "   'score': 0.77650476,\n",
       "   'raw_content': None},\n",
       "  {'url': 'https://www.whitehouse.gov/',\n",
       "   'title': 'The White House',\n",
       "   'content': 'The White House President Donald J. Trump The White House Image 1 Trump *   White House Wire *   America’s Founding Fathers Image 2: President Trump Liberation Day Image 3: President Trump Medal of Honor Recipients Image 4: President Trump Cabinet Meeting Image 5 Image 6: President Donald J. Trump President of the United States Image 7 Image 8 Image 9 Image 10: President Trump Executive Order Signing Image 11: President Trump and First Lady Melania Trump Image 12: Donald J. Trump Image 13: President Trump and Elon Musk in a Tesla Get direct updates from The White House in your inbox. Image 15 ### Subscribe to The White House newsletter',\n",
       "   'score': 0.7077487,\n",
       "   'raw_content': None},\n",
       "  {'url': 'https://www.usa.gov/presidents',\n",
       "   'title': 'Presidents, vice presidents, and first ladies | USAGov',\n",
       "   'content': 'Presidents, vice presidents, and first ladies | USAGov An official website of the United States government A **.gov** website belongs to an official government organization in the United States. Learn about the duties of president, vice president, and first lady of the United States. President of the United States The president of the United States is the: ### Former U.S. presidents The United States has had 46 former U.S. presidents. Vice president of the United States The vice president of the United States presides over the U.S. Senate and takes over the role of president of the United States if the president is unable to perform their duties. The 50th and current vice president of the United States is James David (JD) Vance.',\n",
       "   'score': 0.62523276,\n",
       "   'raw_content': None},\n",
       "  {'url': 'https://usun.usmission.gov/our-leaders/the-president-of-the-united-states/',\n",
       "   'title': 'President of the United States',\n",
       "   'content': 'President of the United States - United States Mission to the United Nations The technical storage or access is strictly necessary for the legitimate purpose of enabling the use of a specific service explicitly requested by the subscriber or user, or for the sole purpose of carrying out the transmission of a communication over an electronic communications network. The technical storage or access is necessary for the legitimate purpose of storing preferences that are not requested by the subscriber or user. The technical storage or access is necessary for the legitimate purpose of storing preferences that are not requested by the subscriber or user. *   President of the United States *   Sections   President of the United States HomeHome | Our Leaders | President of the United States Trump serves as the 47th President of the United States.',\n",
       "   'score': 0.6194488,\n",
       "   'raw_content': None}],\n",
       " 'response_time': 2.18}"
      ]
     },
     "execution_count": 2,
     "metadata": {},
     "output_type": "execute_result"
    }
   ],
   "source": [
    "from langchain_tavily import TavilySearch\n",
    "\n",
    "tool = TavilySearch()\n",
    "tools = [tool]   # list of tool lets the agent or graph see all tools and loop through them after picking the right one based on the user's question\n",
    "tool.invoke(\"Who is the president of the United States?\")"
   ]
  },
  {
   "cell_type": "code",
   "execution_count": 3,
   "id": "2c346b62",
   "metadata": {},
   "outputs": [],
   "source": [
    "from typing import Annotated\n",
    "from typing_extensions import TypedDict\n",
    "from langgraph.graph import StateGraph,START,END\n",
    "from langgraph.graph.message import add_messages\n"
   ]
  },
  {
   "cell_type": "code",
   "execution_count": 4,
   "id": "e5670a1b",
   "metadata": {},
   "outputs": [],
   "source": [
    "# Define the state of the graph\n",
    "# This state will hold the messages exchanged in the graph\n",
    "class state(TypedDict):\n",
    "    messages: Annotated[list,add_messages]\n",
    "\n",
    "graph_builder =  StateGraph(state)    "
   ]
  },
  {
   "cell_type": "code",
   "execution_count": 5,
   "id": "d7db3fc5",
   "metadata": {},
   "outputs": [
    {
     "data": {
      "text/plain": [
       "<function os.getenv(key, default=None)>"
      ]
     },
     "execution_count": 5,
     "metadata": {},
     "output_type": "execute_result"
    }
   ],
   "source": [
    "from dotenv import load_dotenv\n",
    "import os\n",
    "\n",
    "load_dotenv()\n",
    "os.getenv"
   ]
  },
  {
   "cell_type": "code",
   "execution_count": 6,
   "id": "ade50272",
   "metadata": {},
   "outputs": [],
   "source": [
    "#Now bind tool with llm\n",
    "\n",
    "from langchain_openai import ChatOpenAI\n",
    "\n",
    "llm = ChatOpenAI(\n",
    "    model=\"gpt-4o\")"
   ]
  },
  {
   "cell_type": "code",
   "execution_count": 7,
   "id": "157b112a",
   "metadata": {},
   "outputs": [
    {
     "data": {
      "text/plain": [
       "'The capital of France is Paris.'"
      ]
     },
     "execution_count": 7,
     "metadata": {},
     "output_type": "execute_result"
    }
   ],
   "source": [
    "llm.invoke(\"What is the capital of France?\").content"
   ]
  },
  {
   "cell_type": "code",
   "execution_count": 8,
   "id": "6ab9a816",
   "metadata": {},
   "outputs": [],
   "source": [
    "llm_with_tools = llm.bind_tools(tools)"
   ]
  },
  {
   "cell_type": "code",
   "execution_count": 9,
   "id": "26959265",
   "metadata": {},
   "outputs": [],
   "source": [
    "from langgraph.prebuilt import ToolNode,tools_condition"
   ]
  },
  {
   "cell_type": "code",
   "execution_count": 11,
   "id": "ad71e401",
   "metadata": {},
   "outputs": [],
   "source": [
    "def Biva(state):\n",
    "   return {\"messages\": [llm_with_tools.invoke(state[\"messages\"])]}  \n",
    "\n",
    "graph_builder = StateGraph(state)\n",
    "graph_builder.add_node(\"Biva\",Biva)\n",
    "graph_builder.add_node(\"tools\",ToolNode(tools))\n",
    "graph_builder.add_edge(START, \"Biva\" )\n",
    "graph_builder.add_conditional_edges(\"Biva\",tools_condition)\n",
    "graph_builder.add_edge(\"tools\",\"Biva\")\n",
    "graph_builder.add_edge(\"Biva\",END)\n",
    "graph = graph_builder.compile()"
   ]
  },
  {
   "cell_type": "code",
   "execution_count": 12,
   "id": "c04a4e8f",
   "metadata": {},
   "outputs": [
    {
     "data": {
      "image/png": "[encoded data removed]",
      "text/plain": [
       "<IPython.core.display.Image object>"
      ]
     },
     "metadata": {},
     "output_type": "display_data"
    }
   ],
   "source": [
    "from IPython.display import Image, display\n",
    "\n",
    "try:\n",
    "    display(Image(graph.get_graph().draw_mermaid_png()))\n",
    "except Exception:\n",
    "    # This requires some extra dependencies and is optional\n",
    "    pass\n"
   ]
  },
  {
   "cell_type": "code",
   "execution_count": 17,
   "id": "25513a0d",
   "metadata": {},
   "outputs": [
    {
     "name": "stdout",
     "output_type": "stream",
     "text": [
      "================================\u001b[1m Human Message \u001b[0m=================================\n",
      "\n",
      "What is latest news on AI\n",
      "==================================\u001b[1m Ai Message \u001b[0m==================================\n",
      "Tool Calls:\n",
      "  tavily_search (call_6tSVBQSTFrcePLxTZykOrnu6)\n",
      " Call ID: call_6tSVBQSTFrcePLxTZykOrnu6\n",
      "  Args:\n",
      "    query: latest news on AI\n",
      "    time_range: day\n",
      "    topic: news\n",
      "=================================\u001b[1m Tool Message \u001b[0m=================================\n",
      "Name: tavily_search\n",
      "\n",
      "{\"query\": \"latest news on AI\", \"follow_up_questions\": null, \"answer\": null, \"images\": [], \"results\": [{\"url\": \"https://www.rudebaguette.com/en/2025/07/were-watching-a-brain-drain-in-real-time-openai-hit-hard-as-4-top-researchers-defect-to-rival-tech-giant-meta/\", \"title\": \"“We’re Watching a Brain Drain in Real Time”: OpenAI Hit Hard as 4 Top Researchers Defect to Rival Tech Giant Meta - Rude Baguette\", \"score\": 0.65861565, \"published_date\": \"Sat, 05 Jul 2025 16:09:17 GMT\", \"content\": \"Image 3: Illustration of four prominent researchers transitioning from OpenAI to Meta. July 5, 2025 at 12:08 PM   Image 8: Illustration of the future potential of human-level artificial intelligence advancements. July 4, 2025 at 11:58 AM   Image 10: Illustration of bees' flight patterns enhancing visual perception for AI and robotics research. July 3, 2025 at 4:04 PM   Image 33: Illustration of North Korean hackers using AI tools like ChatGPT for cryptocurrency theft. July 4, 2025 at 4:14 PM   Image 46: Illustration of Amazon's expansive AI data center project in Indiana. Image 56: Illustration of four prominent researchers transitioning from OpenAI to Meta. Image 62: Illustration of four prominent researchers transitioning from OpenAI to Meta.\", \"raw_content\": null}, {\"url\": \"https://techcrunch.com/2025/07/05/google-faces-eu-antitrust-complaint-over-ai-overviews/\", \"title\": \"Google faces EU antitrust complaint over AI Overviews - TechCrunch\", \"score\": 0.55449516, \"published_date\": \"Sat, 05 Jul 2025 17:36:54 GMT\", \"content\": \"### More from TechCrunch # Google faces EU antitrust complaint over AI Overviews The complaint accuses Google of “misusing web content for Google’s AI Overviews in Google Search, which have caused, and continue to cause, significant harm to publishers, including news publishers in the form of traffic, readership and revenue loss.” It’s been a little over a year since Google began adding AI-generated summaries at the top of some web search results, and despite some early answers that were spectacularly off-base, the feature continues to expand, to the point where it’s reportedly causing major traffic declines for news publishers. ##### TechCrunch AI TechCrunch's AI experts cover the latest news in the fast-moving field. ##### TechCrunch Space TechCrunch Logo\", \"raw_content\": null}, {\"url\": \"https://www.forbes.com/sites/quickerbettertech/2025/07/06/business-tech-news-intuit-rolls-out-agents-for-quickbooks/\", \"title\": \"Business Tech News: Intuit Rolls Out Agents For QuickBooks - Forbes\", \"score\": 0.4974371, \"published_date\": \"Sun, 06 Jul 2025 11:00:00 GMT\", \"content\": \"*   Forbes Insights: Your Five-Step Strategy To Unleash AI’s Value In Marketing| Paid Program  *   Forbes 400  *   More From Forbes  More From Forbes  *   Forbes 101  More From Forbes  **Business Technology News #3 –****Meta's $14 billion bet on Scale AI: A game-changer for small businesses?** Meta says it plans to use this AI boost to power tools that automate ad creation, targeting, and optimization – making advanced marketing more accessible to small businesses, enabling them to run campaigns with minimal effort or expertise. Forbes Daily: Join over 1 million Forbes Daily subscribers and get our best stories, exclusive reporting and essential analysis of the day’s news in your inbox every weekday. **Business Technology News #5 – Are AI chatbots replacing search engines?**\", \"raw_content\": null}, {\"url\": \"https://canada.autonews.com/opinion/editorials/an-editorial-ai-auto-industry-risks-0702/\", \"title\": \"In our opinion: Auto industry can’t fully trust AI yet - canada.autonews.com\", \"score\": 0.47373086, \"published_date\": \"Sun, 06 Jul 2025 10:03:23 GMT\", \"content\": \"Editorial: Auto industry can't fully trust AI yet - Automotive News In our opinion: Auto industry can’t fully trust AI yet Image 3: Robotic head representing AI (GETTY IMAGES)  Image 5: Dealership doc fees are capped at $85 in California, but that could rise to $500 Image 6: Trump signs his tax-and-spend bill at White House ceremony Image 9: 2nd-half sales slump expected following strong Q2 Image 10: How China’s automakers, with speed, are leaving GM, VW and Tesla behind In our opinion: Auto industry can’t fully trust AI yet Return to homepageImage 11: Automotive News Logo Image 12: Cookie Preferences Image 13 Image 14Image 15 Image 16 Image 17: notification icon Subscribe to our notifications for the latest news and updates.\", \"raw_content\": null}, {\"url\": \"https://www.news-gazette.com/business/the-future-of-ai-self-driving-cars-mechanical-weeding-health-care-assistants-and-more/article_b1e9da63-03c2-4eba-b2aa-4c1e4c259b1d.html\", \"title\": \"The future of AI | Self-driving cars, mechanical weeding, health care assistants and more - The News-Gazette\", \"score\": 0.45885846, \"published_date\": \"Sat, 05 Jul 2025 16:00:00 GMT\", \"content\": \"The future of AI | Self-driving cars, mechanical weeding, health care assistants and more | Business | news-gazette.com Image 28: The future of AI | Self-driving cars, mechanical weeding, health care assistants and more The News-Gazette mobile app brings you the latest local breaking news, updates, and more. By submitting this form, you are consenting to receive marketing emails from: The News-Gazette, 2101 Fox Drive, Champaign, IL, 61280, US, https://www.news-gazette.com. © Copyright 2025The News-Gazette2101 Fox Drive,Champaign,IL| Terms of Use| Privacy Policy PHOTO GALLERY: Champaign County Freedom Celebration parade Rained out a year ago, the Champaign County Freedom Celebration's Fourth of July parade played out under blue skies — and followed a new route – late Friday afternoon in News-Gazette\", \"raw_content\": null}], \"response_time\": 0.31}\n",
      "==================================\u001b[1m Ai Message \u001b[0m==================================\n",
      "\n",
      "Here are some of the latest developments in AI:\n",
      "\n",
      "1. **OpenAI Brain Drain to Meta**: OpenAI has recently lost four top researchers to Meta, highlighting the competitive nature of talent acquisition in the tech industry. This move may impact OpenAI's research capabilities and demonstrates the ongoing \"brain drain\" towards tech giants like Meta. [Read more](https://www.rudebaguette.com/en/2025/07/were-watching-a-brain-drain-in-real-time-openai-hit-hard-as-4-top-researchers-defect-to-rival-tech-giant-meta/).\n",
      "\n",
      "2. **Google's Antitrust Issues**: Google is facing an EU antitrust complaint over its AI overviews. The complaint alleges that Google's use of AI-generated summaries in search results is causing significant harm to news publishers by reducing traffic, readership, and revenue. [Read more](https://techcrunch.com/2025/07/05/google-faces-eu-antitrust-complaint-over-ai-overviews/).\n",
      "\n",
      "3. **Intuit's AI Integration**: Intuit has rolled out new AI agents for QuickBooks, aiming to streamline operations for small businesses. This innovation is part of a broader trend of integrating AI into business tools to enhance automation and efficiency. [Read more](https://www.forbes.com/sites/quickerbettertech/2025/07/06/business-tech-news-intuit-rolls-out-agents-for-quickbooks/).\n",
      "\n",
      "4. **AI in the Auto Industry**: There's ongoing debate about the reliability of AI in the automotive sector. Concerns remain about fully trusting AI technologies in the auto industry, despite their increasing incorporation into vehicles and related services. [Read more](https://canada.autonews.com/opinion/editorials/an-editorial-ai-auto-industry-risks-0702/).\n",
      "\n",
      "5. **Future Uses of AI**: AI is being used in various fields, including self-driving cars, mechanical weeding in agriculture, and as healthcare assistants. These applications are reshaping industries by providing smarter, more efficient solutions. [Read more](https://www.news-gazette.com/business/the-future-of-ai-self-driving-cars-mechanical-weeding-health-care-assistants-and-more/article_b1e9da63-03c2-4eba-b2aa-4c1e4c259b1d.html).\n",
      "\n",
      "These stories reflect the diverse and rapidly evolving landscape of artificial intelligence across different sectors.\n"
     ]
    }
   ],
   "source": [
    "messages = graph.invoke({\"messages\": [{\"role\": \"user\", \"content\": \"What is latest news on AI\"}]})\n",
    "for m in messages[\"messages\"]:\n",
    "    m.pretty_print()                 \n"
   ]
  },
  {
   "cell_type": "code",
   "execution_count": null,
   "id": "dd9c25b6",
   "metadata": {},
   "outputs": [],
   "source": []
  },
  {
   "cell_type": "code",
   "execution_count": null,
   "id": "5ffa1437",
   "metadata": {},
   "outputs": [],
   "source": []
  },
  {
   "cell_type": "code",
   "execution_count": null,
   "id": "2a2f1421",
   "metadata": {},
   "outputs": [],
   "source": []
  }
 ],
 "metadata": {
  "kernelspec": {
   "display_name": "base",
   "language": "python",
   "name": "python3"
  },
  "language_info": {
   "codemirror_mode": {
    "name": "ipython",
    "version": 3
   },
   "file_extension": ".py",
   "mimetype": "text/x-python",
   "name": "python",
   "nbconvert_exporter": "python",
   "pygments_lexer": "ipython3",
   "version": "3.12.7"
  }
 },
 "nbformat": 4,
 "nbformat_minor": 5
}
