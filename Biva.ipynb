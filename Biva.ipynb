{
 "cells": [
  {
   "cell_type": "code",
   "execution_count": 1,
   "id": "2f8edac3",
   "metadata": {},
   "outputs": [
    {
     "name": "stdout",
     "output_type": "stream",
     "text": [
      "Requirement already satisfied: langgraph in c:\\users\\biva chandra shekhar\\anaconda3\\lib\\site-packages (0.4.8)\n",
      "Requirement already satisfied: langsmith in c:\\users\\biva chandra shekhar\\anaconda3\\lib\\site-packages (0.4.1)\n",
      "Requirement already satisfied: langchain-core>=0.1 in c:\\users\\biva chandra shekhar\\anaconda3\\lib\\site-packages (from langgraph) (0.3.66)\n",
      "Requirement already satisfied: langgraph-checkpoint>=2.0.26 in c:\\users\\biva chandra shekhar\\anaconda3\\lib\\site-packages (from langgraph) (2.1.0)\n",
      "Requirement already satisfied: langgraph-prebuilt>=0.2.0 in c:\\users\\biva chandra shekhar\\anaconda3\\lib\\site-packages (from langgraph) (0.2.2)\n",
      "Requirement already satisfied: langgraph-sdk>=0.1.42 in c:\\users\\biva chandra shekhar\\anaconda3\\lib\\site-packages (from langgraph) (0.1.70)\n",
      "Requirement already satisfied: pydantic>=2.7.4 in c:\\users\\biva chandra shekhar\\anaconda3\\lib\\site-packages (from langgraph) (2.8.2)\n",
      "Requirement already satisfied: xxhash>=3.5.0 in c:\\users\\biva chandra shekhar\\anaconda3\\lib\\site-packages (from langgraph) (3.5.0)\n",
      "Requirement already satisfied: httpx<1,>=0.23.0 in c:\\users\\biva chandra shekhar\\anaconda3\\lib\\site-packages (from langsmith) (0.27.0)\n",
      "Requirement already satisfied: orjson<4.0.0,>=3.9.14 in c:\\users\\biva chandra shekhar\\anaconda3\\lib\\site-packages (from langsmith) (3.10.15)\n",
      "Requirement already satisfied: packaging>=23.2 in c:\\users\\biva chandra shekhar\\anaconda3\\lib\\site-packages (from langsmith) (24.2)\n",
      "Requirement already satisfied: requests<3,>=2 in c:\\users\\biva chandra shekhar\\anaconda3\\lib\\site-packages (from langsmith) (2.32.3)\n",
      "Requirement already satisfied: requests-toolbelt<2.0.0,>=1.0.0 in c:\\users\\biva chandra shekhar\\anaconda3\\lib\\site-packages (from langsmith) (1.0.0)\n",
      "Requirement already satisfied: zstandard<0.24.0,>=0.23.0 in c:\\users\\biva chandra shekhar\\anaconda3\\lib\\site-packages (from langsmith) (0.23.0)\n",
      "Requirement already satisfied: anyio in c:\\users\\biva chandra shekhar\\anaconda3\\lib\\site-packages (from httpx<1,>=0.23.0->langsmith) (4.2.0)\n",
      "Requirement already satisfied: certifi in c:\\users\\biva chandra shekhar\\anaconda3\\lib\\site-packages (from httpx<1,>=0.23.0->langsmith) (2025.1.31)\n",
      "Requirement already satisfied: httpcore==1.* in c:\\users\\biva chandra shekhar\\anaconda3\\lib\\site-packages (from httpx<1,>=0.23.0->langsmith) (1.0.2)\n",
      "Requirement already satisfied: idna in c:\\users\\biva chandra shekhar\\anaconda3\\lib\\site-packages (from httpx<1,>=0.23.0->langsmith) (3.7)\n",
      "Requirement already satisfied: sniffio in c:\\users\\biva chandra shekhar\\anaconda3\\lib\\site-packages (from httpx<1,>=0.23.0->langsmith) (1.3.0)\n",
      "Requirement already satisfied: h11<0.15,>=0.13 in c:\\users\\biva chandra shekhar\\anaconda3\\lib\\site-packages (from httpcore==1.*->httpx<1,>=0.23.0->langsmith) (0.14.0)\n",
      "Requirement already satisfied: tenacity!=8.4.0,<10.0.0,>=8.1.0 in c:\\users\\biva chandra shekhar\\anaconda3\\lib\\site-packages (from langchain-core>=0.1->langgraph) (8.2.3)\n",
      "Requirement already satisfied: jsonpatch<2.0,>=1.33 in c:\\users\\biva chandra shekhar\\anaconda3\\lib\\site-packages (from langchain-core>=0.1->langgraph) (1.33)\n",
      "Requirement already satisfied: PyYAML>=5.3 in c:\\users\\biva chandra shekhar\\anaconda3\\lib\\site-packages (from langchain-core>=0.1->langgraph) (6.0.1)\n",
      "Requirement already satisfied: typing-extensions>=4.7 in c:\\users\\biva chandra shekhar\\anaconda3\\lib\\site-packages (from langchain-core>=0.1->langgraph) (4.11.0)\n",
      "Requirement already satisfied: ormsgpack>=1.10.0 in c:\\users\\biva chandra shekhar\\anaconda3\\lib\\site-packages (from langgraph-checkpoint>=2.0.26->langgraph) (1.10.0)\n",
      "Requirement already satisfied: annotated-types>=0.4.0 in c:\\users\\biva chandra shekhar\\anaconda3\\lib\\site-packages (from pydantic>=2.7.4->langgraph) (0.6.0)\n",
      "Requirement already satisfied: pydantic-core==2.20.1 in c:\\users\\biva chandra shekhar\\anaconda3\\lib\\site-packages (from pydantic>=2.7.4->langgraph) (2.20.1)\n",
      "Requirement already satisfied: charset-normalizer<4,>=2 in c:\\users\\biva chandra shekhar\\anaconda3\\lib\\site-packages (from requests<3,>=2->langsmith) (3.3.2)\n",
      "Requirement already satisfied: urllib3<3,>=1.21.1 in c:\\users\\biva chandra shekhar\\anaconda3\\lib\\site-packages (from requests<3,>=2->langsmith) (2.2.3)\n",
      "Requirement already satisfied: jsonpointer>=1.9 in c:\\users\\biva chandra shekhar\\anaconda3\\lib\\site-packages (from jsonpatch<2.0,>=1.33->langchain-core>=0.1->langgraph) (2.1)\n"
     ]
    }
   ],
   "source": [
    "! pip install langgraph langsmith\n"
   ]
  },
  {
   "cell_type": "code",
   "execution_count": 2,
   "id": "1e6e439f",
   "metadata": {},
   "outputs": [],
   "source": [
    "from langgraph.graph import StateGraph,START,END\n",
    "from typing import TypedDict, Annotated\n",
    "from langgraph.graph.message import add_messages"
   ]
  },
  {
   "cell_type": "code",
   "execution_count": 3,
   "id": "d64d0fac",
   "metadata": {},
   "outputs": [
    {
     "data": {
      "text/plain": [
       "'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'"
      ]
     },
     "execution_count": 3,
     "metadata": {},
     "output_type": "execute_result"
    }
   ],
   "source": [
    "from dotenv import load_dotenv\n",
    "import os\n",
    "load_dotenv()\n",
    "os.getenv(\"LANGCHAIN_API_KEY\")\n"
   ]
  },
  {
   "cell_type": "code",
   "execution_count": 4,
   "id": "ebf10794",
   "metadata": {},
   "outputs": [],
   "source": [
    "from langchain_openai import ChatOpenAI\n",
    "llm = ChatOpenAI(model=\"gpt-3.5-turbo\")\n"
   ]
  },
  {
   "cell_type": "code",
   "execution_count": 5,
   "id": "8e3ce38b",
   "metadata": {},
   "outputs": [
    {
     "data": {
      "text/plain": [
       "'Hello! How can I assist you today?'"
      ]
     },
     "execution_count": 5,
     "metadata": {},
     "output_type": "execute_result"
    }
   ],
   "source": [
    "llm.invoke(\"Hellow\").content\n"
   ]
  },
  {
   "cell_type": "code",
   "execution_count": 6,
   "id": "2794b79f",
   "metadata": {},
   "outputs": [],
   "source": [
    "class State(TypedDict):\n",
    "    messages :Annotated[list,add_messages]\n",
    "\n",
    "graph_builder = StateGraph(State)"
   ]
  },
  {
   "cell_type": "code",
   "execution_count": 7,
   "id": "a8362a02",
   "metadata": {},
   "outputs": [],
   "source": [
    "def Biva(state):\n",
    "    return {\"messages\": [llm.invoke(state[\"messages\"])]}\n",
    "\n",
    "\n",
    "graph_builder.add_node(\"Biva\", Biva)  # one is a label, the other is the function that powers that label.\n",
    "graph_builder.add_edge(START, \"Biva\")   # connect the start node to the Biva node\n",
    "graph_builder.add_edge(\"Biva\", END)  # connect the Biva node to the end node\n",
    "graph = graph_builder.compile()"
   ]
  },
  {
   "cell_type": "code",
   "execution_count": 8,
   "id": "82177847",
   "metadata": {},
   "outputs": [
    {
     "data": {
      "image/png": "[encoded data removed]",
      "text/plain": [
       "<IPython.core.display.Image object>"
      ]
     },
     "metadata": {},
     "output_type": "display_data"
    }
   ],
   "source": [
    "from IPython.display import Image, display\n",
    "\n",
    "try:\n",
    "    display(Image(graph.get_graph().draw_mermaid_png()))\n",
    "except Exception:\n",
    "    # This requires some extra dependencies and is optional\n",
    "    pass"
   ]
  },
  {
   "cell_type": "code",
   "execution_count": 9,
   "id": "e479fadf",
   "metadata": {},
   "outputs": [
    {
     "name": "stdout",
     "output_type": "stream",
     "text": [
      "type \"exit\" to stop the conversation.\n",
      "Assistant: I am an AI assistant and do not have personal relationships like humans do.\n",
      "Goodbye!\n"
     ]
    }
   ],
   "source": [
    "def Sweety(state):\n",
    "    user_text = {\"messages\" : [{\"role\": \"user\",\"content\":\"who is your best friend? \"}]}\n",
    "\n",
    "    for updates in graph.stream(user_text):\n",
    "\n",
    "        for node_output in updates.values():\n",
    "         last_msg = node_output[\"messages\"][-1]\n",
    "         print(\"Assistant:\", last_msg.content)\n",
    "\n",
    "print('type \"exit\" to stop the conversation.')    \n",
    "while True:\n",
    "    text = input(\"User: \").strip()\n",
    "\n",
    "    # Leave the loop if the user asked to quit\n",
    "    if text.lower() in {\"quit\", \"exit\", \"q\"}:\n",
    "        print(\"Goodbye!\")\n",
    "        break\n",
    "\n",
    "    # Send the message through the graph\n",
    "    Sweety(text)       \n"
   ]
  },
  {
   "cell_type": "code",
   "execution_count": null,
   "id": "7955b401",
   "metadata": {},
   "outputs": [],
   "source": []
  },
  {
   "cell_type": "code",
   "execution_count": null,
   "id": "6daefff0",
   "metadata": {},
   "outputs": [],
   "source": []
  }
 ],
 "metadata": {
  "kernelspec": {
   "display_name": "base",
   "language": "python",
   "name": "python3"
  },
  "language_info": {
   "codemirror_mode": {
    "name": "ipython",
    "version": 3
   },
   "file_extension": ".py",
   "mimetype": "text/x-python",
   "name": "python",
   "nbconvert_exporter": "python",
   "pygments_lexer": "ipython3",
   "version": "3.12.7"
  }
 },
 "nbformat": 4,
 "nbformat_minor": 5
}
