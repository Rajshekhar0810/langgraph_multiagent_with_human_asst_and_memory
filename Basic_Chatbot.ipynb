{
 "cells": [
  {
   "cell_type": "code",
   "execution_count": 1,
   "id": "d243414e",
   "metadata": {},
   "outputs": [],
   "source": [
    "import pandas as pd"
   ]
  },
  {
   "cell_type": "code",
   "execution_count": 2,
   "id": "039f32de",
   "metadata": {},
   "outputs": [
    {
     "name": "stdout",
     "output_type": "stream",
     "text": [
      "Requirement already satisfied: Langgraph in c:\\users\\biva chandra shekhar\\anaconda3\\lib\\site-packages (0.4.8)\n",
      "Requirement already satisfied: Langsmith in c:\\users\\biva chandra shekhar\\anaconda3\\lib\\site-packages (0.4.1)\n",
      "Requirement already satisfied: langchain-core>=0.1 in c:\\users\\biva chandra shekhar\\anaconda3\\lib\\site-packages (from Langgraph) (0.3.66)\n",
      "Requirement already satisfied: langgraph-checkpoint>=2.0.26 in c:\\users\\biva chandra shekhar\\anaconda3\\lib\\site-packages (from Langgraph) (2.1.0)\n",
      "Requirement already satisfied: langgraph-prebuilt>=0.2.0 in c:\\users\\biva chandra shekhar\\anaconda3\\lib\\site-packages (from Langgraph) (0.2.2)\n",
      "Requirement already satisfied: langgraph-sdk>=0.1.42 in c:\\users\\biva chandra shekhar\\anaconda3\\lib\\site-packages (from Langgraph) (0.1.70)\n",
      "Requirement already satisfied: pydantic>=2.7.4 in c:\\users\\biva chandra shekhar\\anaconda3\\lib\\site-packages (from Langgraph) (2.8.2)\n",
      "Requirement already satisfied: xxhash>=3.5.0 in c:\\users\\biva chandra shekhar\\anaconda3\\lib\\site-packages (from Langgraph) (3.5.0)\n",
      "Requirement already satisfied: httpx<1,>=0.23.0 in c:\\users\\biva chandra shekhar\\anaconda3\\lib\\site-packages (from Langsmith) (0.27.0)\n",
      "Requirement already satisfied: orjson<4.0.0,>=3.9.14 in c:\\users\\biva chandra shekhar\\anaconda3\\lib\\site-packages (from Langsmith) (3.10.15)\n",
      "Requirement already satisfied: packaging>=23.2 in c:\\users\\biva chandra shekhar\\anaconda3\\lib\\site-packages (from Langsmith) (24.2)\n",
      "Requirement already satisfied: requests<3,>=2 in c:\\users\\biva chandra shekhar\\anaconda3\\lib\\site-packages (from Langsmith) (2.32.3)\n",
      "Requirement already satisfied: requests-toolbelt<2.0.0,>=1.0.0 in c:\\users\\biva chandra shekhar\\anaconda3\\lib\\site-packages (from Langsmith) (1.0.0)\n",
      "Requirement already satisfied: zstandard<0.24.0,>=0.23.0 in c:\\users\\biva chandra shekhar\\anaconda3\\lib\\site-packages (from Langsmith) (0.23.0)\n",
      "Requirement already satisfied: anyio in c:\\users\\biva chandra shekhar\\anaconda3\\lib\\site-packages (from httpx<1,>=0.23.0->Langsmith) (4.2.0)\n",
      "Requirement already satisfied: certifi in c:\\users\\biva chandra shekhar\\anaconda3\\lib\\site-packages (from httpx<1,>=0.23.0->Langsmith) (2025.1.31)\n",
      "Requirement already satisfied: httpcore==1.* in c:\\users\\biva chandra shekhar\\anaconda3\\lib\\site-packages (from httpx<1,>=0.23.0->Langsmith) (1.0.2)\n",
      "Requirement already satisfied: idna in c:\\users\\biva chandra shekhar\\anaconda3\\lib\\site-packages (from httpx<1,>=0.23.0->Langsmith) (3.7)\n",
      "Requirement already satisfied: sniffio in c:\\users\\biva chandra shekhar\\anaconda3\\lib\\site-packages (from httpx<1,>=0.23.0->Langsmith) (1.3.0)\n",
      "Requirement already satisfied: h11<0.15,>=0.13 in c:\\users\\biva chandra shekhar\\anaconda3\\lib\\site-packages (from httpcore==1.*->httpx<1,>=0.23.0->Langsmith) (0.14.0)\n",
      "Requirement already satisfied: tenacity!=8.4.0,<10.0.0,>=8.1.0 in c:\\users\\biva chandra shekhar\\anaconda3\\lib\\site-packages (from langchain-core>=0.1->Langgraph) (8.2.3)\n",
      "Requirement already satisfied: jsonpatch<2.0,>=1.33 in c:\\users\\biva chandra shekhar\\anaconda3\\lib\\site-packages (from langchain-core>=0.1->Langgraph) (1.33)\n",
      "Requirement already satisfied: PyYAML>=5.3 in c:\\users\\biva chandra shekhar\\anaconda3\\lib\\site-packages (from langchain-core>=0.1->Langgraph) (6.0.1)\n",
      "Requirement already satisfied: typing-extensions>=4.7 in c:\\users\\biva chandra shekhar\\anaconda3\\lib\\site-packages (from langchain-core>=0.1->Langgraph) (4.11.0)\n",
      "Requirement already satisfied: ormsgpack>=1.10.0 in c:\\users\\biva chandra shekhar\\anaconda3\\lib\\site-packages (from langgraph-checkpoint>=2.0.26->Langgraph) (1.10.0)\n",
      "Requirement already satisfied: annotated-types>=0.4.0 in c:\\users\\biva chandra shekhar\\anaconda3\\lib\\site-packages (from pydantic>=2.7.4->Langgraph) (0.6.0)\n",
      "Requirement already satisfied: pydantic-core==2.20.1 in c:\\users\\biva chandra shekhar\\anaconda3\\lib\\site-packages (from pydantic>=2.7.4->Langgraph) (2.20.1)\n",
      "Requirement already satisfied: charset-normalizer<4,>=2 in c:\\users\\biva chandra shekhar\\anaconda3\\lib\\site-packages (from requests<3,>=2->Langsmith) (3.3.2)\n",
      "Requirement already satisfied: urllib3<3,>=1.21.1 in c:\\users\\biva chandra shekhar\\anaconda3\\lib\\site-packages (from requests<3,>=2->Langsmith) (2.2.3)\n",
      "Requirement already satisfied: jsonpointer>=1.9 in c:\\users\\biva chandra shekhar\\anaconda3\\lib\\site-packages (from jsonpatch<2.0,>=1.33->langchain-core>=0.1->Langgraph) (2.1)\n"
     ]
    }
   ],
   "source": [
    "! pip install Langgraph Langsmith"
   ]
  },
  {
   "cell_type": "code",
   "execution_count": 3,
   "id": "3aaf45b9",
   "metadata": {},
   "outputs": [],
   "source": [
    "from typing import Annotated\n",
    "from typing_extensions import TypedDict\n",
    "from langgraph.graph import StateGraph, START, END\n",
    "from langgraph.graph.message import add_messages\n",
    "\n"
   ]
  },
  {
   "cell_type": "markdown",
   "id": "ac96d341",
   "metadata": {},
   "source": [
    "#### StateGraph = Flowchart builder for your AI agent’s brain.\n",
    "#### TypedDict = This tell Python \"This dictionary should have specific keys, and each key should have a specific type.\"\n",
    "#### Annotated – adds extra info to a type\n",
    "#### add_messages tells LangGraph how to combine a new message list with the existing one (it appends instead of overwriting)"
   ]
  },
  {
   "cell_type": "code",
   "execution_count": 4,
   "id": "7e3a3200",
   "metadata": {},
   "outputs": [],
   "source": [
    "class State(TypedDict):\n",
    "  messages: Annotated[list,add_messages]\n",
    "\n",
    "graph_builder = StateGraph(State)"
   ]
  },
  {
   "cell_type": "markdown",
   "id": "37de0a4f",
   "metadata": {},
   "source": [
    " messages: Annotated[list, add_messages] = It has one key \"messages\" whose value is a list. The Annotated bit attaches add_messages as the “merge strategy.”\n",
    "\n",
    "So the State is a dictionary which  have a key called \"messages\"\n",
    "whose value is a list\n",
    "and that list should be merged using add_messages (append new messages to existing)\n",
    "\n",
    "graph_builder = StateGraph(State) | Creates a new graph, telling it “this is the state schema we’ll be passing around."
   ]
  },
  {
   "cell_type": "markdown",
   "id": "17ea6ffa",
   "metadata": {},
   "source": [
    "A reducer function is a rule that tells how to update the state when a node in the graph returns new data for a field.\n",
    "\n",
    "In LangGraph:\n",
    "\n",
    "Your state is a dictionary (like memory)\n",
    "\n",
    "Each key in the state can have a reducer\n",
    "\n",
    "A reducer function tells LangGraph how to merge or combine new values with the existing state"
   ]
  },
  {
   "cell_type": "markdown",
   "id": "157bd0a2",
   "metadata": {},
   "source": [
    "## Very Imp\n",
    "\n",
    "When defining a graph, the first step is to define its State. The State includes the graph's schema and reducer functions that handle state updates. In our example, State is a TypedDict with one key: messages. The add_messages reducer function is used to append new messages to the list instead of overwriting it. Keys without a reducer annotation will overwrite previous values"
   ]
  },
  {
   "cell_type": "code",
   "execution_count": 5,
   "id": "b8e79e20",
   "metadata": {},
   "outputs": [],
   "source": [
    "from dotenv import load_dotenv\n",
    "import os\n",
    "\n",
    "\n",
    "load_dotenv()   #ts job is to load environment variables from a .env file into your Python program's environment.\n",
    "Langgraph_API = os.getenv(\"LANGGRAPH_API_KEYS\")\n",
    "\n",
    "#getenv is not a built‑in Python function—it lives inside the os module,so always use os.getenv() to access environment variables.\n",
    "\n"
   ]
  },
  {
   "cell_type": "markdown",
   "id": "15ada78b",
   "metadata": {},
   "source": [
    "os stands for the Operating System interface module in Python.\n",
    "It is a built-in Python module that lets you interact with your computer’s operating system — such as:\n",
    "\n",
    "Accessing environment variables (os.getenv)\n",
    "\n",
    "Reading/writing files and paths\n",
    "\n",
    "Managing directories\n",
    "\n",
    "Running shell commands\n",
    "\n",
    "So os here is your Python interface to your machine’s environment."
   ]
  },
  {
   "cell_type": "code",
   "execution_count": 6,
   "id": "db10f55a",
   "metadata": {},
   "outputs": [],
   "source": [
    "from langchain_google_genai import ChatGoogleGenerativeAI\n",
    "llm = ChatGoogleGenerativeAI(model = \"gemini-1.5-flash\")"
   ]
  },
  {
   "cell_type": "code",
   "execution_count": 7,
   "id": "fc8ec340",
   "metadata": {},
   "outputs": [],
   "source": [
    "def chatbot(state : State) :\n",
    "    return {\"messages\" : [llm.invoke(state[\"messages\"])]}\n",
    "            \n",
    "graph_builder.add_node(\"chatbot_v1\",chatbot)   \n",
    "graph_builder.add_edge(START,\"chatbot_v1\")   \n",
    "graph_builder.add_edge(\"chatbot_v1\",END)\n",
    "\n",
    "graph = graph_builder.compile()"
   ]
  },
  {
   "cell_type": "code",
   "execution_count": 8,
   "id": "4f1e5dc0",
   "metadata": {},
   "outputs": [
    {
     "data": {
      "image/png": "[encoded data removed]",
      "text/plain": [
       "<IPython.core.display.Image object>"
      ]
     },
     "metadata": {},
     "output_type": "display_data"
    }
   ],
   "source": [
    "from IPython.display import Image, display\n",
    "\n",
    "try:\n",
    "    display(Image(graph.get_graph().draw_mermaid_png()))\n",
    "except Exception:\n",
    "    # This requires some extra dependencies and is optional\n",
    "    pass"
   ]
  },
  {
   "cell_type": "code",
   "execution_count": 9,
   "id": "5dbf8920",
   "metadata": {},
   "outputs": [
    {
     "name": "stdout",
     "output_type": "stream",
     "text": [
      "Type \"quit\" to exit.\n",
      "\n",
      "Goodbye!\n"
     ]
    }
   ],
   "source": [
    "# ----------------------------------------\n",
    "# 1) Function: send a user message to the graph\n",
    "#    and print every assistant reply as it arrives\n",
    "# ----------------------------------------\n",
    "def chat_once(user_text: str):\n",
    "    # Build the first state: a single user message\n",
    "    start_state = {\"messages\": [{\"role\": \"user\", \"content\": \"Who is Prime Minister of India\"}]}\n",
    "\n",
    "    # Run the graph in streaming mode\n",
    "    for update in graph.stream(start_state):\n",
    "        # Each update may contain outputs from one or more nodes\n",
    "        for node_output in update.values():\n",
    "            # Print only the newest assistant message\n",
    "            last_msg = node_output[\"messages\"][-1]\n",
    "            print(\"Assistant:\", last_msg.content)\n",
    "\n",
    "\n",
    "# ----------------------------------------\n",
    "# 2) Simple REPL (Read–Eval–Print Loop)\n",
    "#    Type → get answer → repeat until “quit”\n",
    "# ----------------------------------------\n",
    "print('Type \"quit\" to exit.\\n')\n",
    "\n",
    "while True:\n",
    "    user_text = input(\"User: \").strip()\n",
    "\n",
    "    # Leave the loop if the user asked to quit\n",
    "    if user_text.lower() in {\"quit\", \"exit\", \"q\"}:\n",
    "        print(\"Goodbye!\")\n",
    "        break\n",
    "\n",
    "    # Send the message through the graph\n",
    "    chat_once(user_text)\n"
   ]
  },
  {
   "cell_type": "code",
   "execution_count": null,
   "id": "2dd6c6af",
   "metadata": {},
   "outputs": [],
   "source": []
  },
  {
   "cell_type": "code",
   "execution_count": null,
   "id": "badb9cf9",
   "metadata": {},
   "outputs": [],
   "source": []
  },
  {
   "cell_type": "code",
   "execution_count": null,
   "id": "83526886",
   "metadata": {},
   "outputs": [],
   "source": []
  },
  {
   "cell_type": "markdown",
   "id": "54abd093",
   "metadata": {},
   "source": [
    "Practising"
   ]
  },
  {
   "cell_type": "code",
   "execution_count": 1,
   "id": "df9a7265",
   "metadata": {},
   "outputs": [
    {
     "name": "stdout",
     "output_type": "stream",
     "text": [
      "Requirement already satisfied: langchain in c:\\users\\biva chandra shekhar\\anaconda3\\lib\\site-packages (0.3.20)\n"
     ]
    },
    {
     "name": "stderr",
     "output_type": "stream",
     "text": [
      "ERROR: Could not find a version that satisfies the requirement langgrapg (from versions: none)\n",
      "ERROR: No matching distribution found for langgrapg\n"
     ]
    }
   ],
   "source": [
    "! pip install langchain langgrapg langsmith"
   ]
  },
  {
   "cell_type": "code",
   "execution_count": 2,
   "id": "2cc5c6e6",
   "metadata": {},
   "outputs": [],
   "source": [
    "from langgraph.graph import StateGraph,START,END\n",
    "from langgraph.graph.message import add_messages\n",
    "from typing import Annotated\n",
    "from typing_extensions import TypedDict"
   ]
  },
  {
   "cell_type": "code",
   "execution_count": 3,
   "id": "d93be83b",
   "metadata": {},
   "outputs": [
    {
     "data": {
      "text/plain": [
       "'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'"
      ]
     },
     "execution_count": 3,
     "metadata": {},
     "output_type": "execute_result"
    }
   ],
   "source": [
    "from dotenv import load_dotenv\n",
    "import os\n",
    "load_dotenv()   #ts job is to load environment variables from a .env file into your Python program's environment.\n",
    "os.getenv(\"LANGGRAPH_API_KEYS\")"
   ]
  },
  {
   "cell_type": "code",
   "execution_count": 4,
   "id": "df30db3d",
   "metadata": {},
   "outputs": [],
   "source": [
    "from langchain_openai import ChatOpenAI\n",
    "llm = ChatOpenAI(model = \"gpt-3.5-turbo\")"
   ]
  },
  {
   "cell_type": "code",
   "execution_count": 5,
   "id": "06d15fd7",
   "metadata": {},
   "outputs": [
    {
     "data": {
      "text/plain": [
       "'As of October 2021, Narendra Modi is the Prime Minister of India.'"
      ]
     },
     "execution_count": 5,
     "metadata": {},
     "output_type": "execute_result"
    }
   ],
   "source": [
    "llm.invoke(\"Who is Prime Minister of India?\").content"
   ]
  },
  {
   "cell_type": "code",
   "execution_count": 6,
   "id": "51535bc2",
   "metadata": {},
   "outputs": [],
   "source": [
    "# now built schema  of the chatbot\n",
    "class State(TypedDict):\n",
    "    messages :Annotated[list,add_messages]\n",
    "\n",
    "graph_builder = StateGraph(State)\n"
   ]
  },
  {
   "cell_type": "code",
   "execution_count": 7,
   "id": "fda142e0",
   "metadata": {},
   "outputs": [],
   "source": [
    "def Biva(state :State):\n",
    "    return {\"messages\" : [llm.invoke(state[\"messages\"])]}\n",
    "\n",
    "graph_builder.add_node(\"Biva\",Biva) #one is a label, the other is the function that powers that label.\n",
    "graph_builder.add_edge(START,\"Biva\")\n",
    "graph_builder.add_edge(\"Biva\",END)\n",
    "graph_1 = graph_builder.compile()"
   ]
  },
  {
   "cell_type": "code",
   "execution_count": 8,
   "id": "07b9415f",
   "metadata": {},
   "outputs": [
    {
     "data": {
      "image/png": "[encoded data removed]",
      "text/plain": [
       "<IPython.core.display.Image object>"
      ]
     },
     "metadata": {},
     "output_type": "display_data"
    }
   ],
   "source": [
    "from IPython.display import Image, display\n",
    "\n",
    "try:\n",
    "    display(Image(graph_1.get_graph().draw_mermaid_png()))\n",
    "except Exception:\n",
    "    # This requires some extra dependencies and is optional\n",
    "    pass"
   ]
  },
  {
   "cell_type": "code",
   "execution_count": null,
   "id": "468c1a7c",
   "metadata": {},
   "outputs": [],
   "source": [
    "# now define a function where message will be given and output will be taken from the chatbot\n"
   ]
  },
  {
   "cell_type": "code",
   "execution_count": null,
   "id": "05b86bb4",
   "metadata": {},
   "outputs": [
    {
     "name": "stdout",
     "output_type": "stream",
     "text": [
      "Type \"quit\" to exit.\n",
      "\n",
      "Assistant: As of September 2021, Hemant Soren is the Chief Minister of Jharkhand.\n",
      "Goodbye!\n"
     ]
    }
   ],
   "source": [
    "def CS(messages:str):\n",
    "    start_states = {\"messages\" : [{\"role\":\"user\",\"content\": \"who ic chief minister of Jharkhand?\"}]}\n",
    "    \n",
    "    for updates in graph_1.stream(start_states):\n",
    "        for node_output in updates.values():\n",
    "            last_msg = node_output[\"messages\"][-1]\n",
    "            print(\"Assistant:\", last_msg.content)\n",
    "\n",
    "print('Type \"quit\" to exit.\\n')\n",
    "while True:\n",
    "    user_text = input(\"User: \").strip()\n",
    "\n",
    "    # Leave the loop if the user asked to quit\n",
    "    if user_text.lower() in {\"quit\", \"exit\", \"q\"}:\n",
    "        print(\"Goodbye!\")\n",
    "        break\n",
    "\n",
    "    # Send the message through the graph\n",
    "    CS(user_text)            \n",
    " #CS Handles user input and runs the graph in a loop"
   ]
  },
  {
   "cell_type": "code",
   "execution_count": null,
   "id": "5d7c1112",
   "metadata": {},
   "outputs": [],
   "source": []
  }
 ],
 "metadata": {
  "kernelspec": {
   "display_name": "base",
   "language": "python",
   "name": "python3"
  },
  "language_info": {
   "codemirror_mode": {
    "name": "ipython",
    "version": 3
   },
   "file_extension": ".py",
   "mimetype": "text/x-python",
   "name": "python",
   "nbconvert_exporter": "python",
   "pygments_lexer": "ipython3",
   "version": "3.12.7"
  }
 },
 "nbformat": 4,
 "nbformat_minor": 5
}
